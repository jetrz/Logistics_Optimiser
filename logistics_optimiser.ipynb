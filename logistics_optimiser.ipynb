{
 "cells": [
  {
   "cell_type": "code",
   "execution_count": 1,
   "metadata": {},
   "outputs": [],
   "source": [
    "# DBA3701 Project\n",
    "# By Joshua Emmanuel Teo Rui Zhong A0217683X\n",
    "# This project aims to perform the optimisation of capacity planning in a last mile delivery context. \n",
    "# We want to deliver the most parcels with as little driver hours as possible. However, each of our drivers have different efficencies. \n",
    "# In addition, since they are more familiar with certain areas, their efficency varies based on postal district.\n",
    "\n",
    "# Contents:\n",
    "# Cell 1 (This cell) - Project Description\n",
    "# Cell 2 - Imports\n",
    "# Cell 3 - Miscellaneous Functions\n",
    "# Cell 4 - Single Day Optimisation Model\n",
    "# Cell 5 - Single Day Optimisation Analysis\n",
    "# Cell 6 - Multi Day Optimisation Model\n",
    "# Cell 7 - Multi Day Optimisation Analysis\n",
    "# Cell 8 - Multi Day with Uncertainty Optimisation Model\n",
    "# Cell 9 - Multi Day with Uncertainty Optimisation Analysis\n",
    "# Cell 10 - Limitations"
   ]
  },
  {
   "cell_type": "code",
   "execution_count": 1,
   "metadata": {},
   "outputs": [],
   "source": [
    "import numpy as np\n",
    "import pandas as pd\n",
    "import plotly.express as px\n",
    "import random\n",
    "from rsome import norm, ro\n",
    "from rsome import grb_solver as grb"
   ]
  },
  {
   "cell_type": "code",
   "execution_count": 2,
   "metadata": {},
   "outputs": [],
   "source": [
    "# Miscellaneous functions\n",
    "\n",
    "# Randomizes the distribution percentage of parcels across all districts\n",
    "def randomizeParcelDist(nDistricts):\n",
    "    parcelDist = [random.randint(1, 10)  for i in range(nDistricts)]\n",
    "    parcelDist = [i/sum(parcelDist) for i in parcelDist]\n",
    "    return parcelDist\n",
    "\n",
    "# Bonus efficiency of each driver is depedent on how familiar they are with that location. \n",
    "def bonusEfficiency(driver, district, base, nDistricts, nDrivers):\n",
    "    # normalize driver and district\n",
    "    normDriver, normDistrict = driver/nDrivers, district/nDistricts\n",
    "    # add an element of randomness\n",
    "    return round(base*(1 + abs(normDriver-normDistrict)*random.random()))\n"
   ]
  },
  {
   "cell_type": "code",
   "execution_count": 4,
   "metadata": {},
   "outputs": [],
   "source": [
    "# Firstly, we optimise over a single day.\n",
    "\n",
    "def optimizeSingleDay(nDistricts, nDrivers, totalParcels, costDelivered, costUndelivered, costDriver, maxHours, minDriverEfficiency, maxDriverEfficiency):\n",
    "    \"\"\"\n",
    "    Optimizes capacity planning for a single day.\n",
    "\n",
    "    Args:\n",
    "        nDistricts (int): Number of districts to deliver to\n",
    "        nDrivers (int): Number of drivers available\n",
    "        totalParcels (int): Total number of parcels to deliver\n",
    "        costDelivered (int): Amount earned per successful delivery\n",
    "        costUndelivered (int): Cost per undelivered parcel\n",
    "        costDriver (int): Hourly wage of each driver\n",
    "        maxHours (int): Maximum number of hours each driver can work\n",
    "        minDriverEfficiency (int): Lower bound of the efficiency of each driver (in terms of parcels per hour)\n",
    "        maxDriverEfficiency (int): Upper bound of the efficiency of each driver (in terms of parcels per hour)\n",
    "\n",
    "    Returns:\n",
    "        model.get(): Maximum profit possible\n",
    "    \"\"\"\n",
    "    \n",
    "    # Static variables\n",
    "    model = ro.Model()\n",
    "    parcelDist = randomizeParcelDist(nDistricts)\n",
    "    parcels = [round(i*totalParcels) for i in parcelDist]\n",
    "    parcels[-1] = totalParcels - sum(parcels[:-1])\n",
    "    \n",
    "    baseEfficiency = [random.randint(minDriverEfficiency, maxDriverEfficiency) for i in range(nDrivers)]\n",
    "    efficiencyMatrix = np.array([[bonusEfficiency(i, j, baseEfficiency[i], nDistricts, nDrivers) for i in range(nDrivers)] for j in range(nDistricts)])\n",
    "    \n",
    "    # Decision variables\n",
    "    deliveringAmt = model.dvar((nDistricts, nDrivers), 'I') # 2D Matrix to keep track of the number of parcels each driver is delivering for each district\n",
    "    deliveringHours = model.dvar((nDistricts, nDrivers), 'C') # 2D Matrix to keep track of the number of hours each driver is putting in for each district\n",
    "    isDelivering = model.dvar((nDistricts, nDrivers), 'B') # 2D Matrix to keep track if a driver is delivering to a district\n",
    "    \n",
    "    # Objective\n",
    "    model.max(deliveringAmt.sum()*costDelivered - (totalParcels - deliveringAmt.sum())*costUndelivered - deliveringHours.sum()*costDriver)\n",
    "\n",
    "    # Constraints\n",
    "    # Each driver cannot deliver more than his efficiency x hours\n",
    "    model.st(0 <= deliveringAmt, deliveringAmt <= efficiencyMatrix*deliveringHours)\n",
    "            \n",
    "    # Each driver cannot drive more hours than the max allowed\n",
    "    model.st(0 <= deliveringHours, deliveringHours <= isDelivering*maxHours)\n",
    "        \n",
    "    # Each driver can only deliver to 1 district\n",
    "    model.st(isDelivering.sum(axis=0) <= 1)\n",
    "\n",
    "    # Number of parcels delivered per region cannot exceed total number of parcels available to be delivered to that region\n",
    "    model.st(deliveringAmt[i].sum() <= parcels[i] for i in range(nDistricts))\n",
    "\n",
    "    model.solve(solver=grb, params={'LogToConsole': 0, 'OutputFlag': 0})\n",
    "    return model.get()"
   ]
  },
  {
   "cell_type": "code",
   "execution_count": 5,
   "metadata": {},
   "outputs": [
    {
     "name": "stdout",
     "output_type": "stream",
     "text": [
      "Set parameter Username\n",
      "Academic license - for non-commercial use only - expires 2023-10-26\n",
      "Being solved by Gurobi...\n",
      "Solution status: 2\n",
      "Running time: 0.0472s\n",
      "Being solved by Gurobi...\n",
      "Solution status: 2\n",
      "Running time: 0.4248s\n",
      "Being solved by Gurobi...\n",
      "Solution status: 2\n",
      "Running time: 0.2953s\n",
      "Being solved by Gurobi...\n",
      "Solution status: 2\n",
      "Running time: 0.1631s\n",
      "Being solved by Gurobi...\n",
      "Solution status: 2\n",
      "Running time: 0.0890s\n",
      "Being solved by Gurobi...\n",
      "Solution status: 2\n",
      "Running time: 0.1980s\n",
      "Being solved by Gurobi...\n",
      "Solution status: 2\n",
      "Running time: 0.0147s\n",
      "Being solved by Gurobi...\n",
      "Solution status: 2\n",
      "Running time: 0.5876s\n",
      "Being solved by Gurobi...\n",
      "Solution status: 2\n",
      "Running time: 0.2621s\n",
      "Being solved by Gurobi...\n",
      "Solution status: 2\n",
      "Running time: 0.1579s\n",
      "Being solved by Gurobi...\n",
      "Solution status: 2\n",
      "Running time: 0.0928s\n",
      "Being solved by Gurobi...\n",
      "Solution status: 2\n",
      "Running time: 0.1293s\n",
      "Being solved by Gurobi...\n",
      "Solution status: 2\n",
      "Running time: 0.0771s\n",
      "Being solved by Gurobi...\n",
      "Solution status: 2\n",
      "Running time: 1.3683s\n",
      "Being solved by Gurobi...\n",
      "Solution status: 2\n",
      "Running time: 0.2695s\n",
      "Being solved by Gurobi...\n",
      "Solution status: 2\n",
      "Running time: 0.2816s\n",
      "Being solved by Gurobi...\n",
      "Solution status: 2\n",
      "Running time: 0.0654s\n",
      "Being solved by Gurobi...\n",
      "Solution status: 2\n",
      "Running time: 0.0765s\n",
      "Being solved by Gurobi...\n",
      "Solution status: 2\n",
      "Running time: 0.0914s\n",
      "Being solved by Gurobi...\n",
      "Solution status: 2\n",
      "Running time: 0.4531s\n",
      "Being solved by Gurobi...\n",
      "Solution status: 2\n",
      "Running time: 0.1520s\n",
      "Being solved by Gurobi...\n",
      "Solution status: 2\n",
      "Running time: 0.1391s\n",
      "Being solved by Gurobi...\n",
      "Solution status: 2\n",
      "Running time: 0.1458s\n",
      "Being solved by Gurobi...\n",
      "Solution status: 2\n",
      "Running time: 0.2103s\n",
      "Being solved by Gurobi...\n",
      "Solution status: 2\n",
      "Running time: 0.0708s\n",
      "Being solved by Gurobi...\n",
      "Solution status: 2\n",
      "Running time: 0.3397s\n",
      "Being solved by Gurobi...\n",
      "Solution status: 2\n",
      "Running time: 2.1247s\n",
      "Being solved by Gurobi...\n",
      "Solution status: 2\n",
      "Running time: 0.0969s\n",
      "Being solved by Gurobi...\n",
      "Solution status: 2\n",
      "Running time: 0.1056s\n",
      "Being solved by Gurobi...\n",
      "Solution status: 2\n",
      "Running time: 0.2506s\n",
      "Being solved by Gurobi...\n",
      "Solution status: 2\n",
      "Running time: 0.0837s\n",
      "Being solved by Gurobi...\n",
      "Solution status: 2\n",
      "Running time: 0.1490s\n",
      "Being solved by Gurobi...\n",
      "Solution status: 2\n",
      "Running time: 0.1549s\n",
      "Being solved by Gurobi...\n",
      "Solution status: 2\n",
      "Running time: 0.1628s\n",
      "Being solved by Gurobi...\n",
      "Solution status: 2\n",
      "Running time: 0.1349s\n",
      "Being solved by Gurobi...\n",
      "Solution status: 2\n",
      "Running time: 0.1458s\n",
      "Being solved by Gurobi...\n",
      "Solution status: 2\n",
      "Running time: 0.0829s\n",
      "Being solved by Gurobi...\n",
      "Solution status: 2\n",
      "Running time: 0.3125s\n",
      "Being solved by Gurobi...\n",
      "Solution status: 2\n",
      "Running time: 1.2402s\n",
      "Being solved by Gurobi...\n",
      "Solution status: 2\n",
      "Running time: 0.1383s\n",
      "Being solved by Gurobi...\n",
      "Solution status: 2\n",
      "Running time: 0.0479s\n",
      "Being solved by Gurobi...\n",
      "Solution status: 2\n",
      "Running time: 1.0223s\n",
      "Being solved by Gurobi...\n",
      "Solution status: 2\n",
      "Running time: 0.0470s\n",
      "Being solved by Gurobi...\n",
      "Solution status: 2\n",
      "Running time: 1.0142s\n",
      "Being solved by Gurobi...\n",
      "Solution status: 2\n",
      "Running time: 0.1018s\n",
      "Being solved by Gurobi...\n",
      "Solution status: 2\n",
      "Running time: 0.3284s\n",
      "Being solved by Gurobi...\n",
      "Solution status: 2\n",
      "Running time: 0.2437s\n",
      "Being solved by Gurobi...\n",
      "Solution status: 2\n",
      "Running time: 0.2196s\n",
      "Being solved by Gurobi...\n",
      "Solution status: 2\n",
      "Running time: 0.0120s\n",
      "Being solved by Gurobi...\n",
      "Solution status: 2\n",
      "Running time: 0.2667s\n",
      "Being solved by Gurobi...\n",
      "Solution status: 2\n",
      "Running time: 0.1043s\n",
      "Being solved by Gurobi...\n",
      "Solution status: 2\n",
      "Running time: 0.0859s\n",
      "Being solved by Gurobi...\n",
      "Solution status: 2\n",
      "Running time: 0.0621s\n",
      "Being solved by Gurobi...\n",
      "Solution status: 2\n",
      "Running time: 0.1774s\n",
      "Being solved by Gurobi...\n",
      "Solution status: 2\n",
      "Running time: 0.0789s\n",
      "Being solved by Gurobi...\n",
      "Solution status: 2\n",
      "Running time: 0.3942s\n",
      "Being solved by Gurobi...\n",
      "Solution status: 2\n",
      "Running time: 0.2073s\n",
      "Being solved by Gurobi...\n",
      "Solution status: 2\n",
      "Running time: 0.1771s\n",
      "Being solved by Gurobi...\n",
      "Solution status: 2\n",
      "Running time: 0.1111s\n",
      "Being solved by Gurobi...\n",
      "Solution status: 2\n",
      "Running time: 0.1641s\n",
      "Being solved by Gurobi...\n",
      "Solution status: 2\n",
      "Running time: 0.0732s\n",
      "Being solved by Gurobi...\n",
      "Solution status: 2\n",
      "Running time: 0.2612s\n",
      "Being solved by Gurobi...\n",
      "Solution status: 2\n",
      "Running time: 0.3374s\n",
      "Being solved by Gurobi...\n",
      "Solution status: 2\n",
      "Running time: 0.1317s\n",
      "Being solved by Gurobi...\n",
      "Solution status: 2\n",
      "Running time: 0.2179s\n",
      "Being solved by Gurobi...\n",
      "Solution status: 2\n",
      "Running time: 0.1802s\n",
      "Being solved by Gurobi...\n",
      "Solution status: 2\n",
      "Running time: 0.0715s\n",
      "Being solved by Gurobi...\n",
      "Solution status: 2\n",
      "Running time: 0.8005s\n",
      "Being solved by Gurobi...\n",
      "Solution status: 2\n",
      "Running time: 0.6780s\n",
      "Being solved by Gurobi...\n",
      "Solution status: 2\n",
      "Running time: 1.5969s\n",
      "Being solved by Gurobi...\n",
      "Solution status: 2\n",
      "Running time: 0.0634s\n",
      "Being solved by Gurobi...\n",
      "Solution status: 2\n",
      "Running time: 0.0564s\n",
      "Being solved by Gurobi...\n",
      "Solution status: 2\n",
      "Running time: 0.1741s\n",
      "Being solved by Gurobi...\n",
      "Solution status: 2\n",
      "Running time: 0.1903s\n",
      "Being solved by Gurobi...\n",
      "Solution status: 2\n",
      "Running time: 0.6519s\n",
      "Being solved by Gurobi...\n",
      "Solution status: 2\n",
      "Running time: 0.2235s\n",
      "Being solved by Gurobi...\n",
      "Solution status: 2\n",
      "Running time: 0.1887s\n",
      "Being solved by Gurobi...\n",
      "Solution status: 2\n",
      "Running time: 0.0718s\n",
      "Being solved by Gurobi...\n",
      "Solution status: 2\n",
      "Running time: 0.0930s\n",
      "Being solved by Gurobi...\n",
      "Solution status: 2\n",
      "Running time: 0.1517s\n",
      "Being solved by Gurobi...\n",
      "Solution status: 2\n",
      "Running time: 0.9218s\n",
      "Being solved by Gurobi...\n",
      "Solution status: 2\n",
      "Running time: 0.1704s\n",
      "Being solved by Gurobi...\n",
      "Solution status: 2\n",
      "Running time: 0.2404s\n",
      "Being solved by Gurobi...\n",
      "Solution status: 2\n",
      "Running time: 0.1441s\n",
      "Being solved by Gurobi...\n",
      "Solution status: 2\n",
      "Running time: 0.0765s\n",
      "Being solved by Gurobi...\n",
      "Solution status: 2\n",
      "Running time: 0.2352s\n",
      "Being solved by Gurobi...\n",
      "Solution status: 2\n",
      "Running time: 0.1903s\n",
      "Being solved by Gurobi...\n",
      "Solution status: 2\n",
      "Running time: 0.1898s\n",
      "Being solved by Gurobi...\n",
      "Solution status: 2\n",
      "Running time: 0.3183s\n",
      "Being solved by Gurobi...\n",
      "Solution status: 2\n",
      "Running time: 0.1620s\n"
     ]
    },
    {
     "data": {
      "application/vnd.plotly.v1+json": {
       "config": {
        "plotlyServerURL": "https://plot.ly"
       },
       "data": [
        {
         "hovertemplate": "Category=5 Drivers<br>Iteration=%{x}<br>Profit=%{y}<extra></extra>",
         "legendgroup": "5 Drivers",
         "line": {
          "color": "#636efa",
          "dash": "solid"
         },
         "marker": {
          "symbol": "circle"
         },
         "mode": "lines",
         "name": "5 Drivers",
         "orientation": "v",
         "showlegend": true,
         "type": "scatter",
         "x": [
          0,
          1,
          2,
          3,
          4,
          5,
          6,
          7,
          8,
          9,
          10,
          11,
          12,
          13,
          14
         ],
         "xaxis": "x",
         "y": [
          -6304.615384615385,
          -4869.666666666665,
          -5898.285714285715,
          -4182.636363636363,
          -4046.369658119658,
          -5318.222222222221,
          -3722.484848484849,
          -5102.461538461538,
          -5432.454545454544,
          -5154.363636363636,
          -4904.671328671328,
          -5952.909090909089,
          -3644.727272727273,
          -5805.333333333332,
          -6536.772727272727
         ],
         "yaxis": "y"
        },
        {
         "hovertemplate": "Category=15 Drivers<br>Iteration=%{x}<br>Profit=%{y}<extra></extra>",
         "legendgroup": "15 Drivers",
         "line": {
          "color": "#EF553B",
          "dash": "solid"
         },
         "marker": {
          "symbol": "circle"
         },
         "mode": "lines",
         "name": "15 Drivers",
         "orientation": "v",
         "showlegend": true,
         "type": "scatter",
         "x": [
          0,
          1,
          2,
          3,
          4,
          5,
          6,
          7,
          8,
          9,
          10,
          11,
          12,
          13,
          14
         ],
         "xaxis": "x",
         "y": [
          5385.678321678322,
          4007.5091575091587,
          5062.935574229692,
          3608.978243978245,
          4090.6282051282064,
          2797.7271617271626,
          4154.378066378068,
          3206.1111111111113,
          2425.149572649573,
          3786.4417249417247,
          5102.753746253746,
          4111.156954156955,
          3335.488903253611,
          4669.337662337664,
          3880.139249639252
         ],
         "yaxis": "y"
        },
        {
         "hovertemplate": "Category=25 Drivers<br>Iteration=%{x}<br>Profit=%{y}<extra></extra>",
         "legendgroup": "25 Drivers",
         "line": {
          "color": "#00cc96",
          "dash": "solid"
         },
         "marker": {
          "symbol": "circle"
         },
         "mode": "lines",
         "name": "25 Drivers",
         "orientation": "v",
         "showlegend": true,
         "type": "scatter",
         "x": [
          0,
          1,
          2,
          3,
          4,
          5,
          6,
          7,
          8,
          9,
          10,
          11,
          12,
          13,
          14
         ],
         "xaxis": "x",
         "y": [
          9421.224386724389,
          9841.34965034965,
          9237.540404040406,
          9968.55536130536,
          9146.82726423903,
          9834.195498945503,
          9594.080808080807,
          9707.516150516149,
          9573.093462093462,
          9826.610056610056,
          9737.624264624266,
          9004.235491924148,
          9419.197524697529,
          9363.770840270843,
          9195.694426488551
         ],
         "yaxis": "y"
        },
        {
         "hovertemplate": "Category=35 Drivers<br>Iteration=%{x}<br>Profit=%{y}<extra></extra>",
         "legendgroup": "35 Drivers",
         "line": {
          "color": "#ab63fa",
          "dash": "solid"
         },
         "marker": {
          "symbol": "circle"
         },
         "mode": "lines",
         "name": "35 Drivers",
         "orientation": "v",
         "showlegend": true,
         "type": "scatter",
         "x": [
          0,
          1,
          2,
          3,
          4,
          5,
          6,
          7,
          8,
          9,
          10,
          11,
          12,
          13,
          14
         ],
         "xaxis": "x",
         "y": [
          10497.720407043938,
          10458.495328201208,
          10549.507187257192,
          10496.36302586303,
          10692.409146409147,
          10719.291375291376,
          10666.689033189034,
          10628.819513819517,
          10704.18173329938,
          10639.48085248085,
          10442.071151071154,
          10340.272005772009,
          10460.599567099567,
          10356.867563808744,
          10525.512350394703
         ],
         "yaxis": "y"
        },
        {
         "hovertemplate": "Category=45 Drivers<br>Iteration=%{x}<br>Profit=%{y}<extra></extra>",
         "legendgroup": "45 Drivers",
         "line": {
          "color": "#FFA15A",
          "dash": "solid"
         },
         "marker": {
          "symbol": "circle"
         },
         "mode": "lines",
         "name": "45 Drivers",
         "orientation": "v",
         "showlegend": true,
         "type": "scatter",
         "x": [
          0,
          1,
          2,
          3,
          4,
          5,
          6,
          7,
          8,
          9,
          10,
          11,
          12,
          13,
          14
         ],
         "xaxis": "x",
         "y": [
          10517.587450131567,
          10706.107226107226,
          10926.378991923113,
          10879.034188034188,
          10878.154734154727,
          10863.66455766456,
          10988.94906564024,
          10815.209261326909,
          10772.487734487735,
          10852.795002383236,
          10746.086746586745,
          10955.198401271933,
          10765.381618381618,
          10981.200410700409,
          10922.734481205065
         ],
         "yaxis": "y"
        },
        {
         "hovertemplate": "Category=55 Drivers<br>Iteration=%{x}<br>Profit=%{y}<extra></extra>",
         "legendgroup": "55 Drivers",
         "line": {
          "color": "#19d3f3",
          "dash": "solid"
         },
         "marker": {
          "symbol": "circle"
         },
         "mode": "lines",
         "name": "55 Drivers",
         "orientation": "v",
         "showlegend": true,
         "type": "scatter",
         "x": [
          0,
          1,
          2,
          3,
          4,
          5,
          6,
          7,
          8,
          9,
          10,
          11,
          12,
          13,
          14
         ],
         "xaxis": "x",
         "y": [
          10774.63161838162,
          11033.580808080811,
          10871.84487408017,
          10918.097485847486,
          10919.850045379455,
          10810.242257742255,
          10819.673643350114,
          10938.385733547504,
          10963.29995004995,
          11074.302233713997,
          10864.976578976582,
          11027.336385836386,
          11126.51170561465,
          10771.724941724939,
          10834.80244755245
         ],
         "yaxis": "y"
        }
       ],
       "layout": {
        "legend": {
         "title": {
          "text": "Category"
         },
         "tracegroupgap": 0
        },
        "template": {
         "data": {
          "bar": [
           {
            "error_x": {
             "color": "#2a3f5f"
            },
            "error_y": {
             "color": "#2a3f5f"
            },
            "marker": {
             "line": {
              "color": "#E5ECF6",
              "width": 0.5
             },
             "pattern": {
              "fillmode": "overlay",
              "size": 10,
              "solidity": 0.2
             }
            },
            "type": "bar"
           }
          ],
          "barpolar": [
           {
            "marker": {
             "line": {
              "color": "#E5ECF6",
              "width": 0.5
             },
             "pattern": {
              "fillmode": "overlay",
              "size": 10,
              "solidity": 0.2
             }
            },
            "type": "barpolar"
           }
          ],
          "carpet": [
           {
            "aaxis": {
             "endlinecolor": "#2a3f5f",
             "gridcolor": "white",
             "linecolor": "white",
             "minorgridcolor": "white",
             "startlinecolor": "#2a3f5f"
            },
            "baxis": {
             "endlinecolor": "#2a3f5f",
             "gridcolor": "white",
             "linecolor": "white",
             "minorgridcolor": "white",
             "startlinecolor": "#2a3f5f"
            },
            "type": "carpet"
           }
          ],
          "choropleth": [
           {
            "colorbar": {
             "outlinewidth": 0,
             "ticks": ""
            },
            "type": "choropleth"
           }
          ],
          "contour": [
           {
            "colorbar": {
             "outlinewidth": 0,
             "ticks": ""
            },
            "colorscale": [
             [
              0,
              "#0d0887"
             ],
             [
              0.1111111111111111,
              "#46039f"
             ],
             [
              0.2222222222222222,
              "#7201a8"
             ],
             [
              0.3333333333333333,
              "#9c179e"
             ],
             [
              0.4444444444444444,
              "#bd3786"
             ],
             [
              0.5555555555555556,
              "#d8576b"
             ],
             [
              0.6666666666666666,
              "#ed7953"
             ],
             [
              0.7777777777777778,
              "#fb9f3a"
             ],
             [
              0.8888888888888888,
              "#fdca26"
             ],
             [
              1,
              "#f0f921"
             ]
            ],
            "type": "contour"
           }
          ],
          "contourcarpet": [
           {
            "colorbar": {
             "outlinewidth": 0,
             "ticks": ""
            },
            "type": "contourcarpet"
           }
          ],
          "heatmap": [
           {
            "colorbar": {
             "outlinewidth": 0,
             "ticks": ""
            },
            "colorscale": [
             [
              0,
              "#0d0887"
             ],
             [
              0.1111111111111111,
              "#46039f"
             ],
             [
              0.2222222222222222,
              "#7201a8"
             ],
             [
              0.3333333333333333,
              "#9c179e"
             ],
             [
              0.4444444444444444,
              "#bd3786"
             ],
             [
              0.5555555555555556,
              "#d8576b"
             ],
             [
              0.6666666666666666,
              "#ed7953"
             ],
             [
              0.7777777777777778,
              "#fb9f3a"
             ],
             [
              0.8888888888888888,
              "#fdca26"
             ],
             [
              1,
              "#f0f921"
             ]
            ],
            "type": "heatmap"
           }
          ],
          "heatmapgl": [
           {
            "colorbar": {
             "outlinewidth": 0,
             "ticks": ""
            },
            "colorscale": [
             [
              0,
              "#0d0887"
             ],
             [
              0.1111111111111111,
              "#46039f"
             ],
             [
              0.2222222222222222,
              "#7201a8"
             ],
             [
              0.3333333333333333,
              "#9c179e"
             ],
             [
              0.4444444444444444,
              "#bd3786"
             ],
             [
              0.5555555555555556,
              "#d8576b"
             ],
             [
              0.6666666666666666,
              "#ed7953"
             ],
             [
              0.7777777777777778,
              "#fb9f3a"
             ],
             [
              0.8888888888888888,
              "#fdca26"
             ],
             [
              1,
              "#f0f921"
             ]
            ],
            "type": "heatmapgl"
           }
          ],
          "histogram": [
           {
            "marker": {
             "pattern": {
              "fillmode": "overlay",
              "size": 10,
              "solidity": 0.2
             }
            },
            "type": "histogram"
           }
          ],
          "histogram2d": [
           {
            "colorbar": {
             "outlinewidth": 0,
             "ticks": ""
            },
            "colorscale": [
             [
              0,
              "#0d0887"
             ],
             [
              0.1111111111111111,
              "#46039f"
             ],
             [
              0.2222222222222222,
              "#7201a8"
             ],
             [
              0.3333333333333333,
              "#9c179e"
             ],
             [
              0.4444444444444444,
              "#bd3786"
             ],
             [
              0.5555555555555556,
              "#d8576b"
             ],
             [
              0.6666666666666666,
              "#ed7953"
             ],
             [
              0.7777777777777778,
              "#fb9f3a"
             ],
             [
              0.8888888888888888,
              "#fdca26"
             ],
             [
              1,
              "#f0f921"
             ]
            ],
            "type": "histogram2d"
           }
          ],
          "histogram2dcontour": [
           {
            "colorbar": {
             "outlinewidth": 0,
             "ticks": ""
            },
            "colorscale": [
             [
              0,
              "#0d0887"
             ],
             [
              0.1111111111111111,
              "#46039f"
             ],
             [
              0.2222222222222222,
              "#7201a8"
             ],
             [
              0.3333333333333333,
              "#9c179e"
             ],
             [
              0.4444444444444444,
              "#bd3786"
             ],
             [
              0.5555555555555556,
              "#d8576b"
             ],
             [
              0.6666666666666666,
              "#ed7953"
             ],
             [
              0.7777777777777778,
              "#fb9f3a"
             ],
             [
              0.8888888888888888,
              "#fdca26"
             ],
             [
              1,
              "#f0f921"
             ]
            ],
            "type": "histogram2dcontour"
           }
          ],
          "mesh3d": [
           {
            "colorbar": {
             "outlinewidth": 0,
             "ticks": ""
            },
            "type": "mesh3d"
           }
          ],
          "parcoords": [
           {
            "line": {
             "colorbar": {
              "outlinewidth": 0,
              "ticks": ""
             }
            },
            "type": "parcoords"
           }
          ],
          "pie": [
           {
            "automargin": true,
            "type": "pie"
           }
          ],
          "scatter": [
           {
            "fillpattern": {
             "fillmode": "overlay",
             "size": 10,
             "solidity": 0.2
            },
            "type": "scatter"
           }
          ],
          "scatter3d": [
           {
            "line": {
             "colorbar": {
              "outlinewidth": 0,
              "ticks": ""
             }
            },
            "marker": {
             "colorbar": {
              "outlinewidth": 0,
              "ticks": ""
             }
            },
            "type": "scatter3d"
           }
          ],
          "scattercarpet": [
           {
            "marker": {
             "colorbar": {
              "outlinewidth": 0,
              "ticks": ""
             }
            },
            "type": "scattercarpet"
           }
          ],
          "scattergeo": [
           {
            "marker": {
             "colorbar": {
              "outlinewidth": 0,
              "ticks": ""
             }
            },
            "type": "scattergeo"
           }
          ],
          "scattergl": [
           {
            "marker": {
             "colorbar": {
              "outlinewidth": 0,
              "ticks": ""
             }
            },
            "type": "scattergl"
           }
          ],
          "scattermapbox": [
           {
            "marker": {
             "colorbar": {
              "outlinewidth": 0,
              "ticks": ""
             }
            },
            "type": "scattermapbox"
           }
          ],
          "scatterpolar": [
           {
            "marker": {
             "colorbar": {
              "outlinewidth": 0,
              "ticks": ""
             }
            },
            "type": "scatterpolar"
           }
          ],
          "scatterpolargl": [
           {
            "marker": {
             "colorbar": {
              "outlinewidth": 0,
              "ticks": ""
             }
            },
            "type": "scatterpolargl"
           }
          ],
          "scatterternary": [
           {
            "marker": {
             "colorbar": {
              "outlinewidth": 0,
              "ticks": ""
             }
            },
            "type": "scatterternary"
           }
          ],
          "surface": [
           {
            "colorbar": {
             "outlinewidth": 0,
             "ticks": ""
            },
            "colorscale": [
             [
              0,
              "#0d0887"
             ],
             [
              0.1111111111111111,
              "#46039f"
             ],
             [
              0.2222222222222222,
              "#7201a8"
             ],
             [
              0.3333333333333333,
              "#9c179e"
             ],
             [
              0.4444444444444444,
              "#bd3786"
             ],
             [
              0.5555555555555556,
              "#d8576b"
             ],
             [
              0.6666666666666666,
              "#ed7953"
             ],
             [
              0.7777777777777778,
              "#fb9f3a"
             ],
             [
              0.8888888888888888,
              "#fdca26"
             ],
             [
              1,
              "#f0f921"
             ]
            ],
            "type": "surface"
           }
          ],
          "table": [
           {
            "cells": {
             "fill": {
              "color": "#EBF0F8"
             },
             "line": {
              "color": "white"
             }
            },
            "header": {
             "fill": {
              "color": "#C8D4E3"
             },
             "line": {
              "color": "white"
             }
            },
            "type": "table"
           }
          ]
         },
         "layout": {
          "annotationdefaults": {
           "arrowcolor": "#2a3f5f",
           "arrowhead": 0,
           "arrowwidth": 1
          },
          "autotypenumbers": "strict",
          "coloraxis": {
           "colorbar": {
            "outlinewidth": 0,
            "ticks": ""
           }
          },
          "colorscale": {
           "diverging": [
            [
             0,
             "#8e0152"
            ],
            [
             0.1,
             "#c51b7d"
            ],
            [
             0.2,
             "#de77ae"
            ],
            [
             0.3,
             "#f1b6da"
            ],
            [
             0.4,
             "#fde0ef"
            ],
            [
             0.5,
             "#f7f7f7"
            ],
            [
             0.6,
             "#e6f5d0"
            ],
            [
             0.7,
             "#b8e186"
            ],
            [
             0.8,
             "#7fbc41"
            ],
            [
             0.9,
             "#4d9221"
            ],
            [
             1,
             "#276419"
            ]
           ],
           "sequential": [
            [
             0,
             "#0d0887"
            ],
            [
             0.1111111111111111,
             "#46039f"
            ],
            [
             0.2222222222222222,
             "#7201a8"
            ],
            [
             0.3333333333333333,
             "#9c179e"
            ],
            [
             0.4444444444444444,
             "#bd3786"
            ],
            [
             0.5555555555555556,
             "#d8576b"
            ],
            [
             0.6666666666666666,
             "#ed7953"
            ],
            [
             0.7777777777777778,
             "#fb9f3a"
            ],
            [
             0.8888888888888888,
             "#fdca26"
            ],
            [
             1,
             "#f0f921"
            ]
           ],
           "sequentialminus": [
            [
             0,
             "#0d0887"
            ],
            [
             0.1111111111111111,
             "#46039f"
            ],
            [
             0.2222222222222222,
             "#7201a8"
            ],
            [
             0.3333333333333333,
             "#9c179e"
            ],
            [
             0.4444444444444444,
             "#bd3786"
            ],
            [
             0.5555555555555556,
             "#d8576b"
            ],
            [
             0.6666666666666666,
             "#ed7953"
            ],
            [
             0.7777777777777778,
             "#fb9f3a"
            ],
            [
             0.8888888888888888,
             "#fdca26"
            ],
            [
             1,
             "#f0f921"
            ]
           ]
          },
          "colorway": [
           "#636efa",
           "#EF553B",
           "#00cc96",
           "#ab63fa",
           "#FFA15A",
           "#19d3f3",
           "#FF6692",
           "#B6E880",
           "#FF97FF",
           "#FECB52"
          ],
          "font": {
           "color": "#2a3f5f"
          },
          "geo": {
           "bgcolor": "white",
           "lakecolor": "white",
           "landcolor": "#E5ECF6",
           "showlakes": true,
           "showland": true,
           "subunitcolor": "white"
          },
          "hoverlabel": {
           "align": "left"
          },
          "hovermode": "closest",
          "mapbox": {
           "style": "light"
          },
          "paper_bgcolor": "white",
          "plot_bgcolor": "#E5ECF6",
          "polar": {
           "angularaxis": {
            "gridcolor": "white",
            "linecolor": "white",
            "ticks": ""
           },
           "bgcolor": "#E5ECF6",
           "radialaxis": {
            "gridcolor": "white",
            "linecolor": "white",
            "ticks": ""
           }
          },
          "scene": {
           "xaxis": {
            "backgroundcolor": "#E5ECF6",
            "gridcolor": "white",
            "gridwidth": 2,
            "linecolor": "white",
            "showbackground": true,
            "ticks": "",
            "zerolinecolor": "white"
           },
           "yaxis": {
            "backgroundcolor": "#E5ECF6",
            "gridcolor": "white",
            "gridwidth": 2,
            "linecolor": "white",
            "showbackground": true,
            "ticks": "",
            "zerolinecolor": "white"
           },
           "zaxis": {
            "backgroundcolor": "#E5ECF6",
            "gridcolor": "white",
            "gridwidth": 2,
            "linecolor": "white",
            "showbackground": true,
            "ticks": "",
            "zerolinecolor": "white"
           }
          },
          "shapedefaults": {
           "line": {
            "color": "#2a3f5f"
           }
          },
          "ternary": {
           "aaxis": {
            "gridcolor": "white",
            "linecolor": "white",
            "ticks": ""
           },
           "baxis": {
            "gridcolor": "white",
            "linecolor": "white",
            "ticks": ""
           },
           "bgcolor": "#E5ECF6",
           "caxis": {
            "gridcolor": "white",
            "linecolor": "white",
            "ticks": ""
           }
          },
          "title": {
           "x": 0.05
          },
          "xaxis": {
           "automargin": true,
           "gridcolor": "white",
           "linecolor": "white",
           "ticks": "",
           "title": {
            "standoff": 15
           },
           "zerolinecolor": "white",
           "zerolinewidth": 2
          },
          "yaxis": {
           "automargin": true,
           "gridcolor": "white",
           "linecolor": "white",
           "ticks": "",
           "title": {
            "standoff": 15
           },
           "zerolinecolor": "white",
           "zerolinewidth": 2
          }
         }
        },
        "title": {
         "text": "Single Day Optimisation: Varying no. of Drivers"
        },
        "xaxis": {
         "anchor": "y",
         "domain": [
          0,
          1
         ],
         "title": {
          "text": "Iteration"
         }
        },
        "yaxis": {
         "anchor": "x",
         "domain": [
          0,
          1
         ],
         "title": {
          "text": "Profit"
         }
        }
       }
      }
     },
     "metadata": {},
     "output_type": "display_data"
    },
    {
     "name": "stdout",
     "output_type": "stream",
     "text": [
      "Being solved by Gurobi...\n",
      "Solution status: 2\n",
      "Running time: 0.0955s\n",
      "Being solved by Gurobi...\n",
      "Solution status: 2\n",
      "Running time: 0.0977s\n",
      "Being solved by Gurobi...\n",
      "Solution status: 2\n",
      "Running time: 2.7397s\n",
      "Being solved by Gurobi...\n",
      "Solution status: 2\n",
      "Running time: 0.0992s\n",
      "Being solved by Gurobi...\n",
      "Solution status: 2\n",
      "Running time: 0.1703s\n",
      "Being solved by Gurobi...\n",
      "Solution status: 2\n",
      "Running time: 0.1013s\n",
      "Being solved by Gurobi...\n",
      "Solution status: 2\n",
      "Running time: 0.0063s\n",
      "Being solved by Gurobi...\n",
      "Solution status: 2\n",
      "Running time: 0.3757s\n",
      "Being solved by Gurobi...\n",
      "Solution status: 2\n",
      "Running time: 2.0109s\n",
      "Being solved by Gurobi...\n",
      "Solution status: 2\n",
      "Running time: 18.4996s\n",
      "Being solved by Gurobi...\n",
      "Solution status: 2\n",
      "Running time: 0.2280s\n",
      "Being solved by Gurobi...\n",
      "Solution status: 2\n",
      "Running time: 0.4334s\n",
      "Being solved by Gurobi...\n",
      "Solution status: 2\n",
      "Running time: 0.1334s\n",
      "Being solved by Gurobi...\n",
      "Solution status: 2\n",
      "Running time: 0.4795s\n",
      "Being solved by Gurobi...\n",
      "Solution status: 2\n",
      "Running time: 7.9781s\n",
      "Being solved by Gurobi...\n",
      "Solution status: 2\n",
      "Running time: 0.2105s\n",
      "Being solved by Gurobi...\n",
      "Solution status: 2\n",
      "Running time: 0.2549s\n",
      "Being solved by Gurobi...\n",
      "Solution status: 2\n",
      "Running time: 0.2239s\n",
      "Being solved by Gurobi...\n",
      "Solution status: 2\n",
      "Running time: 0.1695s\n",
      "Being solved by Gurobi...\n",
      "Solution status: 2\n",
      "Running time: 0.6704s\n",
      "Being solved by Gurobi...\n",
      "Solution status: 2\n",
      "Running time: 2.5558s\n",
      "Being solved by Gurobi...\n",
      "Solution status: 2\n",
      "Running time: 0.2495s\n",
      "Being solved by Gurobi...\n",
      "Solution status: 2\n",
      "Running time: 0.2448s\n",
      "Being solved by Gurobi...\n",
      "Solution status: 2\n",
      "Running time: 0.2235s\n",
      "Being solved by Gurobi...\n",
      "Solution status: 2\n",
      "Running time: 0.0470s\n",
      "Being solved by Gurobi...\n",
      "Solution status: 2\n",
      "Running time: 0.1578s\n",
      "Being solved by Gurobi...\n",
      "Solution status: 2\n",
      "Running time: 5.6266s\n",
      "Being solved by Gurobi...\n",
      "Solution status: 2\n",
      "Running time: 2.1206s\n",
      "Being solved by Gurobi...\n",
      "Solution status: 2\n",
      "Running time: 0.1582s\n",
      "Being solved by Gurobi...\n",
      "Solution status: 2\n",
      "Running time: 0.2177s\n",
      "Being solved by Gurobi...\n",
      "Solution status: 2\n",
      "Running time: 0.1359s\n",
      "Being solved by Gurobi...\n",
      "Solution status: 2\n",
      "Running time: 0.2181s\n",
      "Being solved by Gurobi...\n",
      "Solution status: 2\n",
      "Running time: 0.9375s\n",
      "Being solved by Gurobi...\n",
      "Solution status: 2\n",
      "Running time: 31.9975s\n",
      "Being solved by Gurobi...\n",
      "Solution status: 2\n",
      "Running time: 0.1000s\n",
      "Being solved by Gurobi...\n",
      "Solution status: 2\n",
      "Running time: 0.1396s\n",
      "Being solved by Gurobi...\n",
      "Solution status: 2\n",
      "Running time: 0.0243s\n",
      "Being solved by Gurobi...\n",
      "Solution status: 2\n",
      "Running time: 0.0618s\n",
      "Being solved by Gurobi...\n",
      "Solution status: 2\n",
      "Running time: 1.4097s\n",
      "Being solved by Gurobi...\n",
      "Solution status: 2\n",
      "Running time: 1.9172s\n",
      "Being solved by Gurobi...\n",
      "Solution status: 2\n",
      "Running time: 0.1904s\n",
      "Being solved by Gurobi...\n",
      "Solution status: 2\n",
      "Running time: 0.1160s\n",
      "Being solved by Gurobi...\n",
      "Solution status: 2\n",
      "Running time: 0.0646s\n",
      "Being solved by Gurobi...\n",
      "Solution status: 2\n",
      "Running time: 0.1348s\n",
      "Being solved by Gurobi...\n",
      "Solution status: 2\n",
      "Running time: 0.5725s\n",
      "Being solved by Gurobi...\n",
      "Solution status: 2\n",
      "Running time: 0.1221s\n",
      "Being solved by Gurobi...\n",
      "Solution status: 2\n",
      "Running time: 0.1381s\n",
      "Being solved by Gurobi...\n",
      "Solution status: 2\n",
      "Running time: 0.0827s\n",
      "Being solved by Gurobi...\n",
      "Solution status: 2\n",
      "Running time: 0.0053s\n",
      "Being solved by Gurobi...\n",
      "Solution status: 2\n",
      "Running time: 0.1144s\n",
      "Being solved by Gurobi...\n",
      "Solution status: 2\n",
      "Running time: 1.4365s\n",
      "Being solved by Gurobi...\n",
      "Solution status: 2\n",
      "Running time: 13.1552s\n",
      "Being solved by Gurobi...\n",
      "Solution status: 2\n",
      "Running time: 0.1630s\n",
      "Being solved by Gurobi...\n",
      "Solution status: 2\n",
      "Running time: 0.2036s\n",
      "Being solved by Gurobi...\n",
      "Solution status: 2\n",
      "Running time: 0.0523s\n",
      "Being solved by Gurobi...\n",
      "Solution status: 2\n",
      "Running time: 0.0986s\n",
      "Being solved by Gurobi...\n",
      "Solution status: 2\n",
      "Running time: 1.0448s\n",
      "Being solved by Gurobi...\n",
      "Solution status: 2\n",
      "Running time: 6.6442s\n",
      "Being solved by Gurobi...\n",
      "Solution status: 2\n",
      "Running time: 0.1280s\n",
      "Being solved by Gurobi...\n",
      "Solution status: 2\n",
      "Running time: 0.3789s\n",
      "Being solved by Gurobi...\n",
      "Solution status: 2\n",
      "Running time: 0.0334s\n",
      "Being solved by Gurobi...\n",
      "Solution status: 2\n",
      "Running time: 0.1080s\n",
      "Being solved by Gurobi...\n",
      "Solution status: 2\n",
      "Running time: 1.9636s\n",
      "Being solved by Gurobi...\n",
      "Solution status: 2\n",
      "Running time: 7.6450s\n",
      "Being solved by Gurobi...\n",
      "Solution status: 2\n",
      "Running time: 0.1175s\n",
      "Being solved by Gurobi...\n",
      "Solution status: 2\n",
      "Running time: 0.1428s\n",
      "Being solved by Gurobi...\n",
      "Solution status: 2\n",
      "Running time: 0.0431s\n",
      "Being solved by Gurobi...\n",
      "Solution status: 2\n",
      "Running time: 0.2515s\n",
      "Being solved by Gurobi...\n",
      "Solution status: 2\n",
      "Running time: 1.8290s\n",
      "Being solved by Gurobi...\n",
      "Solution status: 2\n",
      "Running time: 8.4558s\n",
      "Being solved by Gurobi...\n",
      "Solution status: 2\n",
      "Running time: 0.1172s\n",
      "Being solved by Gurobi...\n",
      "Solution status: 2\n",
      "Running time: 0.1488s\n",
      "Being solved by Gurobi...\n",
      "Solution status: 2\n",
      "Running time: 0.0633s\n",
      "Being solved by Gurobi...\n",
      "Solution status: 2\n",
      "Running time: 0.2788s\n",
      "Being solved by Gurobi...\n",
      "Solution status: 2\n",
      "Running time: 1.0010s\n",
      "Being solved by Gurobi...\n",
      "Solution status: 2\n",
      "Running time: 2.2851s\n",
      "Being solved by Gurobi...\n",
      "Solution status: 2\n",
      "Running time: 0.1663s\n",
      "Being solved by Gurobi...\n",
      "Solution status: 2\n",
      "Running time: 0.1650s\n",
      "Being solved by Gurobi...\n",
      "Solution status: 2\n",
      "Running time: 0.0005s\n",
      "Being solved by Gurobi...\n",
      "Solution status: 2\n",
      "Running time: 0.2133s\n",
      "Being solved by Gurobi...\n",
      "Solution status: 2\n",
      "Running time: 0.8872s\n",
      "Being solved by Gurobi...\n",
      "Solution status: 2\n",
      "Running time: 0.1179s\n",
      "Being solved by Gurobi...\n",
      "Solution status: 2\n",
      "Running time: 0.2471s\n",
      "Being solved by Gurobi...\n",
      "Solution status: 2\n",
      "Running time: 0.1675s\n",
      "Being solved by Gurobi...\n",
      "Solution status: 2\n",
      "Running time: 0.0015s\n",
      "Being solved by Gurobi...\n",
      "Solution status: 2\n",
      "Running time: 0.1637s\n",
      "Being solved by Gurobi...\n",
      "Solution status: 2\n",
      "Running time: 1.2269s\n",
      "Being solved by Gurobi...\n",
      "Solution status: 2\n",
      "Running time: 0.2353s\n",
      "Being solved by Gurobi...\n",
      "Solution status: 2\n",
      "Running time: 0.1196s\n",
      "Being solved by Gurobi...\n",
      "Solution status: 2\n",
      "Running time: 0.1716s\n"
     ]
    },
    {
     "data": {
      "application/vnd.plotly.v1+json": {
       "config": {
        "plotlyServerURL": "https://plot.ly"
       },
       "data": [
        {
         "hovertemplate": "Category=1 Districts<br>Iteration=%{x}<br>Profit=%{y}<extra></extra>",
         "legendgroup": "1 Districts",
         "line": {
          "color": "#636efa",
          "dash": "solid"
         },
         "marker": {
          "symbol": "circle"
         },
         "mode": "lines",
         "name": "1 Districts",
         "orientation": "v",
         "showlegend": true,
         "type": "scatter",
         "x": [
          0,
          1,
          2,
          3,
          4,
          5,
          6,
          7,
          8,
          9,
          10,
          11,
          12,
          13,
          14
         ],
         "xaxis": "x",
         "y": [
          10453.333333333334,
          9880,
          10510,
          10104,
          10426.666666666666,
          10020,
          10510,
          10268.57142857143,
          10830,
          10053.333333333334,
          10670,
          10293.333333333334,
          10328,
          7920,
          9946.666666666666
         ],
         "yaxis": "y"
        },
        {
         "hovertemplate": "Category=5 Districts<br>Iteration=%{x}<br>Profit=%{y}<extra></extra>",
         "legendgroup": "5 Districts",
         "line": {
          "color": "#EF553B",
          "dash": "solid"
         },
         "marker": {
          "symbol": "circle"
         },
         "mode": "lines",
         "name": "5 Districts",
         "orientation": "v",
         "showlegend": true,
         "type": "scatter",
         "x": [
          0,
          1,
          2,
          3,
          4,
          5,
          6,
          7,
          8,
          9,
          10,
          11,
          12,
          13,
          14
         ],
         "xaxis": "x",
         "y": [
          10639.04761904762,
          10439.698412698412,
          10822.349206349207,
          10088.666666666666,
          10688.07142857143,
          10060.714285714286,
          10806.920634920634,
          10631.460317460318,
          10756.75,
          10936.202020202021,
          10697.979797979799,
          10736.742424242424,
          10002.095238095237,
          10704.765512265512,
          10618.079365079364
         ],
         "yaxis": "y"
        },
        {
         "hovertemplate": "Category=15 Districts<br>Iteration=%{x}<br>Profit=%{y}<extra></extra>",
         "legendgroup": "15 Districts",
         "line": {
          "color": "#00cc96",
          "dash": "solid"
         },
         "marker": {
          "symbol": "circle"
         },
         "mode": "lines",
         "name": "15 Districts",
         "orientation": "v",
         "showlegend": true,
         "type": "scatter",
         "x": [
          0,
          1,
          2,
          3,
          4,
          5,
          6,
          7,
          8,
          9,
          10,
          11,
          12,
          13,
          14
         ],
         "xaxis": "x",
         "y": [
          10796.341769341772,
          10644.459096459093,
          10229.666666666666,
          10263.655844155848,
          10115.59523809524,
          10609.974802974806,
          10306.488095238094,
          10382.095238095242,
          10540.30086580087,
          10739.612116641529,
          10516.63564213564,
          10515.743589743592,
          10453.773576097097,
          10606.11965811966,
          10470.892114421526
         ],
         "yaxis": "y"
        },
        {
         "hovertemplate": "Category=25 Districts<br>Iteration=%{x}<br>Profit=%{y}<extra></extra>",
         "legendgroup": "25 Districts",
         "line": {
          "color": "#ab63fa",
          "dash": "solid"
         },
         "marker": {
          "symbol": "circle"
         },
         "mode": "lines",
         "name": "25 Districts",
         "orientation": "v",
         "showlegend": true,
         "type": "scatter",
         "x": [
          0,
          1,
          2,
          3,
          4,
          5,
          6,
          7,
          8,
          9,
          10,
          11,
          12,
          13,
          14
         ],
         "xaxis": "x",
         "y": [
          10602.839993339992,
          9612.86657786658,
          10345.872127872128,
          10107.276334776336,
          9890.335520047498,
          9066.128205128207,
          10142.26617826618,
          10459.868437118437,
          10283.368104118104,
          10138.263414142872,
          9632.2158019954,
          9710.074696545287,
          10348.132761508112,
          10768.870828517885,
          10076.755355755355
         ],
         "yaxis": "y"
        },
        {
         "hovertemplate": "Category=35 Districts<br>Iteration=%{x}<br>Profit=%{y}<extra></extra>",
         "legendgroup": "35 Districts",
         "line": {
          "color": "#FFA15A",
          "dash": "solid"
         },
         "marker": {
          "symbol": "circle"
         },
         "mode": "lines",
         "name": "35 Districts",
         "orientation": "v",
         "showlegend": true,
         "type": "scatter",
         "x": [
          0,
          1,
          2,
          3,
          4,
          5,
          6,
          7,
          8,
          9,
          10,
          11,
          12,
          13,
          14
         ],
         "xaxis": "x",
         "y": [
          7263.888777888779,
          8334.902597402597,
          7599.473359973355,
          7646.240009990009,
          8266.22222222222,
          7906.103618603617,
          8134.637806637807,
          7274.244588744589,
          8334.541430791433,
          7949.188034188035,
          7684.64965589966,
          8223.284576534577,
          7894.8904983905,
          6977.650808993575,
          7942.242056189423
         ],
         "yaxis": "y"
        },
        {
         "hovertemplate": "Category=45 Districts<br>Iteration=%{x}<br>Profit=%{y}<extra></extra>",
         "legendgroup": "45 Districts",
         "line": {
          "color": "#19d3f3",
          "dash": "solid"
         },
         "marker": {
          "symbol": "circle"
         },
         "mode": "lines",
         "name": "45 Districts",
         "orientation": "v",
         "showlegend": true,
         "type": "scatter",
         "x": [
          0,
          1,
          2,
          3,
          4,
          5,
          6,
          7,
          8,
          9,
          10,
          11,
          12,
          13,
          14
         ],
         "xaxis": "x",
         "y": [
          4635.866466866467,
          5786.759185259189,
          5725.7858840505905,
          5149.374791874795,
          5644.958681841036,
          4690.1984126984125,
          5301.472935561172,
          5474.28071928072,
          4981.941780441781,
          5124.419358419364,
          5239.921744921745,
          6345.244588744592,
          5733.367965367967,
          5466.797619047623,
          5222.277056277057
         ],
         "yaxis": "y"
        }
       ],
       "layout": {
        "legend": {
         "title": {
          "text": "Category"
         },
         "tracegroupgap": 0
        },
        "template": {
         "data": {
          "bar": [
           {
            "error_x": {
             "color": "#2a3f5f"
            },
            "error_y": {
             "color": "#2a3f5f"
            },
            "marker": {
             "line": {
              "color": "#E5ECF6",
              "width": 0.5
             },
             "pattern": {
              "fillmode": "overlay",
              "size": 10,
              "solidity": 0.2
             }
            },
            "type": "bar"
           }
          ],
          "barpolar": [
           {
            "marker": {
             "line": {
              "color": "#E5ECF6",
              "width": 0.5
             },
             "pattern": {
              "fillmode": "overlay",
              "size": 10,
              "solidity": 0.2
             }
            },
            "type": "barpolar"
           }
          ],
          "carpet": [
           {
            "aaxis": {
             "endlinecolor": "#2a3f5f",
             "gridcolor": "white",
             "linecolor": "white",
             "minorgridcolor": "white",
             "startlinecolor": "#2a3f5f"
            },
            "baxis": {
             "endlinecolor": "#2a3f5f",
             "gridcolor": "white",
             "linecolor": "white",
             "minorgridcolor": "white",
             "startlinecolor": "#2a3f5f"
            },
            "type": "carpet"
           }
          ],
          "choropleth": [
           {
            "colorbar": {
             "outlinewidth": 0,
             "ticks": ""
            },
            "type": "choropleth"
           }
          ],
          "contour": [
           {
            "colorbar": {
             "outlinewidth": 0,
             "ticks": ""
            },
            "colorscale": [
             [
              0,
              "#0d0887"
             ],
             [
              0.1111111111111111,
              "#46039f"
             ],
             [
              0.2222222222222222,
              "#7201a8"
             ],
             [
              0.3333333333333333,
              "#9c179e"
             ],
             [
              0.4444444444444444,
              "#bd3786"
             ],
             [
              0.5555555555555556,
              "#d8576b"
             ],
             [
              0.6666666666666666,
              "#ed7953"
             ],
             [
              0.7777777777777778,
              "#fb9f3a"
             ],
             [
              0.8888888888888888,
              "#fdca26"
             ],
             [
              1,
              "#f0f921"
             ]
            ],
            "type": "contour"
           }
          ],
          "contourcarpet": [
           {
            "colorbar": {
             "outlinewidth": 0,
             "ticks": ""
            },
            "type": "contourcarpet"
           }
          ],
          "heatmap": [
           {
            "colorbar": {
             "outlinewidth": 0,
             "ticks": ""
            },
            "colorscale": [
             [
              0,
              "#0d0887"
             ],
             [
              0.1111111111111111,
              "#46039f"
             ],
             [
              0.2222222222222222,
              "#7201a8"
             ],
             [
              0.3333333333333333,
              "#9c179e"
             ],
             [
              0.4444444444444444,
              "#bd3786"
             ],
             [
              0.5555555555555556,
              "#d8576b"
             ],
             [
              0.6666666666666666,
              "#ed7953"
             ],
             [
              0.7777777777777778,
              "#fb9f3a"
             ],
             [
              0.8888888888888888,
              "#fdca26"
             ],
             [
              1,
              "#f0f921"
             ]
            ],
            "type": "heatmap"
           }
          ],
          "heatmapgl": [
           {
            "colorbar": {
             "outlinewidth": 0,
             "ticks": ""
            },
            "colorscale": [
             [
              0,
              "#0d0887"
             ],
             [
              0.1111111111111111,
              "#46039f"
             ],
             [
              0.2222222222222222,
              "#7201a8"
             ],
             [
              0.3333333333333333,
              "#9c179e"
             ],
             [
              0.4444444444444444,
              "#bd3786"
             ],
             [
              0.5555555555555556,
              "#d8576b"
             ],
             [
              0.6666666666666666,
              "#ed7953"
             ],
             [
              0.7777777777777778,
              "#fb9f3a"
             ],
             [
              0.8888888888888888,
              "#fdca26"
             ],
             [
              1,
              "#f0f921"
             ]
            ],
            "type": "heatmapgl"
           }
          ],
          "histogram": [
           {
            "marker": {
             "pattern": {
              "fillmode": "overlay",
              "size": 10,
              "solidity": 0.2
             }
            },
            "type": "histogram"
           }
          ],
          "histogram2d": [
           {
            "colorbar": {
             "outlinewidth": 0,
             "ticks": ""
            },
            "colorscale": [
             [
              0,
              "#0d0887"
             ],
             [
              0.1111111111111111,
              "#46039f"
             ],
             [
              0.2222222222222222,
              "#7201a8"
             ],
             [
              0.3333333333333333,
              "#9c179e"
             ],
             [
              0.4444444444444444,
              "#bd3786"
             ],
             [
              0.5555555555555556,
              "#d8576b"
             ],
             [
              0.6666666666666666,
              "#ed7953"
             ],
             [
              0.7777777777777778,
              "#fb9f3a"
             ],
             [
              0.8888888888888888,
              "#fdca26"
             ],
             [
              1,
              "#f0f921"
             ]
            ],
            "type": "histogram2d"
           }
          ],
          "histogram2dcontour": [
           {
            "colorbar": {
             "outlinewidth": 0,
             "ticks": ""
            },
            "colorscale": [
             [
              0,
              "#0d0887"
             ],
             [
              0.1111111111111111,
              "#46039f"
             ],
             [
              0.2222222222222222,
              "#7201a8"
             ],
             [
              0.3333333333333333,
              "#9c179e"
             ],
             [
              0.4444444444444444,
              "#bd3786"
             ],
             [
              0.5555555555555556,
              "#d8576b"
             ],
             [
              0.6666666666666666,
              "#ed7953"
             ],
             [
              0.7777777777777778,
              "#fb9f3a"
             ],
             [
              0.8888888888888888,
              "#fdca26"
             ],
             [
              1,
              "#f0f921"
             ]
            ],
            "type": "histogram2dcontour"
           }
          ],
          "mesh3d": [
           {
            "colorbar": {
             "outlinewidth": 0,
             "ticks": ""
            },
            "type": "mesh3d"
           }
          ],
          "parcoords": [
           {
            "line": {
             "colorbar": {
              "outlinewidth": 0,
              "ticks": ""
             }
            },
            "type": "parcoords"
           }
          ],
          "pie": [
           {
            "automargin": true,
            "type": "pie"
           }
          ],
          "scatter": [
           {
            "fillpattern": {
             "fillmode": "overlay",
             "size": 10,
             "solidity": 0.2
            },
            "type": "scatter"
           }
          ],
          "scatter3d": [
           {
            "line": {
             "colorbar": {
              "outlinewidth": 0,
              "ticks": ""
             }
            },
            "marker": {
             "colorbar": {
              "outlinewidth": 0,
              "ticks": ""
             }
            },
            "type": "scatter3d"
           }
          ],
          "scattercarpet": [
           {
            "marker": {
             "colorbar": {
              "outlinewidth": 0,
              "ticks": ""
             }
            },
            "type": "scattercarpet"
           }
          ],
          "scattergeo": [
           {
            "marker": {
             "colorbar": {
              "outlinewidth": 0,
              "ticks": ""
             }
            },
            "type": "scattergeo"
           }
          ],
          "scattergl": [
           {
            "marker": {
             "colorbar": {
              "outlinewidth": 0,
              "ticks": ""
             }
            },
            "type": "scattergl"
           }
          ],
          "scattermapbox": [
           {
            "marker": {
             "colorbar": {
              "outlinewidth": 0,
              "ticks": ""
             }
            },
            "type": "scattermapbox"
           }
          ],
          "scatterpolar": [
           {
            "marker": {
             "colorbar": {
              "outlinewidth": 0,
              "ticks": ""
             }
            },
            "type": "scatterpolar"
           }
          ],
          "scatterpolargl": [
           {
            "marker": {
             "colorbar": {
              "outlinewidth": 0,
              "ticks": ""
             }
            },
            "type": "scatterpolargl"
           }
          ],
          "scatterternary": [
           {
            "marker": {
             "colorbar": {
              "outlinewidth": 0,
              "ticks": ""
             }
            },
            "type": "scatterternary"
           }
          ],
          "surface": [
           {
            "colorbar": {
             "outlinewidth": 0,
             "ticks": ""
            },
            "colorscale": [
             [
              0,
              "#0d0887"
             ],
             [
              0.1111111111111111,
              "#46039f"
             ],
             [
              0.2222222222222222,
              "#7201a8"
             ],
             [
              0.3333333333333333,
              "#9c179e"
             ],
             [
              0.4444444444444444,
              "#bd3786"
             ],
             [
              0.5555555555555556,
              "#d8576b"
             ],
             [
              0.6666666666666666,
              "#ed7953"
             ],
             [
              0.7777777777777778,
              "#fb9f3a"
             ],
             [
              0.8888888888888888,
              "#fdca26"
             ],
             [
              1,
              "#f0f921"
             ]
            ],
            "type": "surface"
           }
          ],
          "table": [
           {
            "cells": {
             "fill": {
              "color": "#EBF0F8"
             },
             "line": {
              "color": "white"
             }
            },
            "header": {
             "fill": {
              "color": "#C8D4E3"
             },
             "line": {
              "color": "white"
             }
            },
            "type": "table"
           }
          ]
         },
         "layout": {
          "annotationdefaults": {
           "arrowcolor": "#2a3f5f",
           "arrowhead": 0,
           "arrowwidth": 1
          },
          "autotypenumbers": "strict",
          "coloraxis": {
           "colorbar": {
            "outlinewidth": 0,
            "ticks": ""
           }
          },
          "colorscale": {
           "diverging": [
            [
             0,
             "#8e0152"
            ],
            [
             0.1,
             "#c51b7d"
            ],
            [
             0.2,
             "#de77ae"
            ],
            [
             0.3,
             "#f1b6da"
            ],
            [
             0.4,
             "#fde0ef"
            ],
            [
             0.5,
             "#f7f7f7"
            ],
            [
             0.6,
             "#e6f5d0"
            ],
            [
             0.7,
             "#b8e186"
            ],
            [
             0.8,
             "#7fbc41"
            ],
            [
             0.9,
             "#4d9221"
            ],
            [
             1,
             "#276419"
            ]
           ],
           "sequential": [
            [
             0,
             "#0d0887"
            ],
            [
             0.1111111111111111,
             "#46039f"
            ],
            [
             0.2222222222222222,
             "#7201a8"
            ],
            [
             0.3333333333333333,
             "#9c179e"
            ],
            [
             0.4444444444444444,
             "#bd3786"
            ],
            [
             0.5555555555555556,
             "#d8576b"
            ],
            [
             0.6666666666666666,
             "#ed7953"
            ],
            [
             0.7777777777777778,
             "#fb9f3a"
            ],
            [
             0.8888888888888888,
             "#fdca26"
            ],
            [
             1,
             "#f0f921"
            ]
           ],
           "sequentialminus": [
            [
             0,
             "#0d0887"
            ],
            [
             0.1111111111111111,
             "#46039f"
            ],
            [
             0.2222222222222222,
             "#7201a8"
            ],
            [
             0.3333333333333333,
             "#9c179e"
            ],
            [
             0.4444444444444444,
             "#bd3786"
            ],
            [
             0.5555555555555556,
             "#d8576b"
            ],
            [
             0.6666666666666666,
             "#ed7953"
            ],
            [
             0.7777777777777778,
             "#fb9f3a"
            ],
            [
             0.8888888888888888,
             "#fdca26"
            ],
            [
             1,
             "#f0f921"
            ]
           ]
          },
          "colorway": [
           "#636efa",
           "#EF553B",
           "#00cc96",
           "#ab63fa",
           "#FFA15A",
           "#19d3f3",
           "#FF6692",
           "#B6E880",
           "#FF97FF",
           "#FECB52"
          ],
          "font": {
           "color": "#2a3f5f"
          },
          "geo": {
           "bgcolor": "white",
           "lakecolor": "white",
           "landcolor": "#E5ECF6",
           "showlakes": true,
           "showland": true,
           "subunitcolor": "white"
          },
          "hoverlabel": {
           "align": "left"
          },
          "hovermode": "closest",
          "mapbox": {
           "style": "light"
          },
          "paper_bgcolor": "white",
          "plot_bgcolor": "#E5ECF6",
          "polar": {
           "angularaxis": {
            "gridcolor": "white",
            "linecolor": "white",
            "ticks": ""
           },
           "bgcolor": "#E5ECF6",
           "radialaxis": {
            "gridcolor": "white",
            "linecolor": "white",
            "ticks": ""
           }
          },
          "scene": {
           "xaxis": {
            "backgroundcolor": "#E5ECF6",
            "gridcolor": "white",
            "gridwidth": 2,
            "linecolor": "white",
            "showbackground": true,
            "ticks": "",
            "zerolinecolor": "white"
           },
           "yaxis": {
            "backgroundcolor": "#E5ECF6",
            "gridcolor": "white",
            "gridwidth": 2,
            "linecolor": "white",
            "showbackground": true,
            "ticks": "",
            "zerolinecolor": "white"
           },
           "zaxis": {
            "backgroundcolor": "#E5ECF6",
            "gridcolor": "white",
            "gridwidth": 2,
            "linecolor": "white",
            "showbackground": true,
            "ticks": "",
            "zerolinecolor": "white"
           }
          },
          "shapedefaults": {
           "line": {
            "color": "#2a3f5f"
           }
          },
          "ternary": {
           "aaxis": {
            "gridcolor": "white",
            "linecolor": "white",
            "ticks": ""
           },
           "baxis": {
            "gridcolor": "white",
            "linecolor": "white",
            "ticks": ""
           },
           "bgcolor": "#E5ECF6",
           "caxis": {
            "gridcolor": "white",
            "linecolor": "white",
            "ticks": ""
           }
          },
          "title": {
           "x": 0.05
          },
          "xaxis": {
           "automargin": true,
           "gridcolor": "white",
           "linecolor": "white",
           "ticks": "",
           "title": {
            "standoff": 15
           },
           "zerolinecolor": "white",
           "zerolinewidth": 2
          },
          "yaxis": {
           "automargin": true,
           "gridcolor": "white",
           "linecolor": "white",
           "ticks": "",
           "title": {
            "standoff": 15
           },
           "zerolinecolor": "white",
           "zerolinewidth": 2
          }
         }
        },
        "title": {
         "text": "Single Day Optimisation: Varying no. of Districts"
        },
        "xaxis": {
         "anchor": "y",
         "domain": [
          0,
          1
         ],
         "title": {
          "text": "Iteration"
         }
        },
        "yaxis": {
         "anchor": "x",
         "domain": [
          0,
          1
         ],
         "title": {
          "text": "Profit"
         }
        }
       }
      }
     },
     "metadata": {},
     "output_type": "display_data"
    },
    {
     "name": "stdout",
     "output_type": "stream",
     "text": [
      "Being solved by Gurobi...\n",
      "Solution status: 2\n",
      "Running time: 6.8264s\n",
      "Being solved by Gurobi...\n",
      "Solution status: 2\n",
      "Running time: 0.1041s\n",
      "Being solved by Gurobi...\n",
      "Solution status: 2\n",
      "Running time: 0.1165s\n",
      "Being solved by Gurobi...\n",
      "Solution status: 2\n",
      "Running time: 0.0698s\n",
      "Being solved by Gurobi...\n",
      "Solution status: 2\n",
      "Running time: 0.0508s\n",
      "Being solved by Gurobi...\n",
      "Solution status: 2\n",
      "Running time: 0.1142s\n",
      "Being solved by Gurobi...\n",
      "Solution status: 2\n",
      "Running time: 12.1787s\n",
      "Being solved by Gurobi...\n",
      "Solution status: 2\n",
      "Running time: 0.1247s\n",
      "Being solved by Gurobi...\n",
      "Solution status: 2\n",
      "Running time: 0.1079s\n",
      "Being solved by Gurobi...\n",
      "Solution status: 2\n",
      "Running time: 0.0720s\n",
      "Being solved by Gurobi...\n",
      "Solution status: 2\n",
      "Running time: 0.1476s\n",
      "Being solved by Gurobi...\n",
      "Solution status: 2\n",
      "Running time: 0.1351s\n",
      "Being solved by Gurobi...\n",
      "Solution status: 2\n",
      "Running time: 2.4096s\n",
      "Being solved by Gurobi...\n",
      "Solution status: 2\n",
      "Running time: 0.2321s\n",
      "Being solved by Gurobi...\n",
      "Solution status: 2\n",
      "Running time: 0.1542s\n",
      "Being solved by Gurobi...\n",
      "Solution status: 2\n",
      "Running time: 0.0827s\n",
      "Being solved by Gurobi...\n",
      "Solution status: 2\n",
      "Running time: 0.0546s\n",
      "Being solved by Gurobi...\n",
      "Solution status: 2\n",
      "Running time: 0.0471s\n",
      "Being solved by Gurobi...\n",
      "Solution status: 2\n",
      "Running time: 1.6335s\n",
      "Being solved by Gurobi...\n",
      "Solution status: 2\n",
      "Running time: 0.0452s\n",
      "Being solved by Gurobi...\n",
      "Solution status: 2\n",
      "Running time: 0.0326s\n",
      "Being solved by Gurobi...\n",
      "Solution status: 2\n",
      "Running time: 0.0544s\n",
      "Being solved by Gurobi...\n",
      "Solution status: 2\n",
      "Running time: 0.0607s\n",
      "Being solved by Gurobi...\n",
      "Solution status: 2\n",
      "Running time: 0.0552s\n",
      "Being solved by Gurobi...\n",
      "Solution status: 2\n",
      "Running time: 1.4046s\n",
      "Being solved by Gurobi...\n",
      "Solution status: 2\n",
      "Running time: 0.1180s\n",
      "Being solved by Gurobi...\n",
      "Solution status: 2\n",
      "Running time: 0.0797s\n",
      "Being solved by Gurobi...\n",
      "Solution status: 2\n",
      "Running time: 0.0507s\n",
      "Being solved by Gurobi...\n",
      "Solution status: 2\n",
      "Running time: 0.0468s\n",
      "Being solved by Gurobi...\n",
      "Solution status: 2\n",
      "Running time: 0.0550s\n",
      "Being solved by Gurobi...\n",
      "Solution status: 2\n",
      "Running time: 5.4537s\n",
      "Being solved by Gurobi...\n",
      "Solution status: 2\n",
      "Running time: 0.0498s\n",
      "Being solved by Gurobi...\n",
      "Solution status: 2\n",
      "Running time: 0.1220s\n",
      "Being solved by Gurobi...\n",
      "Solution status: 2\n",
      "Running time: 0.0575s\n",
      "Being solved by Gurobi...\n",
      "Solution status: 2\n",
      "Running time: 0.1666s\n",
      "Being solved by Gurobi...\n",
      "Solution status: 2\n",
      "Running time: 0.1050s\n",
      "Being solved by Gurobi...\n",
      "Solution status: 2\n",
      "Running time: 2.3763s\n",
      "Being solved by Gurobi...\n",
      "Solution status: 2\n",
      "Running time: 4.2627s\n",
      "Being solved by Gurobi...\n",
      "Solution status: 2\n",
      "Running time: 0.1425s\n",
      "Being solved by Gurobi...\n",
      "Solution status: 2\n",
      "Running time: 0.0766s\n",
      "Being solved by Gurobi...\n",
      "Solution status: 2\n",
      "Running time: 0.1527s\n",
      "Being solved by Gurobi...\n",
      "Solution status: 2\n",
      "Running time: 0.0557s\n",
      "Being solved by Gurobi...\n",
      "Solution status: 2\n",
      "Running time: 5.3563s\n",
      "Being solved by Gurobi...\n",
      "Solution status: 2\n",
      "Running time: 0.1100s\n",
      "Being solved by Gurobi...\n",
      "Solution status: 2\n",
      "Running time: 0.0290s\n",
      "Being solved by Gurobi...\n",
      "Solution status: 2\n",
      "Running time: 0.0446s\n",
      "Being solved by Gurobi...\n",
      "Solution status: 2\n",
      "Running time: 0.1267s\n",
      "Being solved by Gurobi...\n",
      "Solution status: 2\n",
      "Running time: 0.1322s\n",
      "Being solved by Gurobi...\n",
      "Solution status: 2\n",
      "Running time: 23.3105s\n",
      "Being solved by Gurobi...\n",
      "Solution status: 2\n",
      "Running time: 0.1110s\n",
      "Being solved by Gurobi...\n",
      "Solution status: 2\n",
      "Running time: 0.2532s\n",
      "Being solved by Gurobi...\n",
      "Solution status: 2\n",
      "Running time: 0.1374s\n",
      "Being solved by Gurobi...\n",
      "Solution status: 2\n",
      "Running time: 0.1227s\n",
      "Being solved by Gurobi...\n",
      "Solution status: 2\n",
      "Running time: 0.2744s\n",
      "Being solved by Gurobi...\n",
      "Solution status: 2\n",
      "Running time: 17.0081s\n",
      "Being solved by Gurobi...\n",
      "Solution status: 2\n",
      "Running time: 0.1190s\n",
      "Being solved by Gurobi...\n",
      "Solution status: 2\n",
      "Running time: 0.0661s\n",
      "Being solved by Gurobi...\n",
      "Solution status: 2\n",
      "Running time: 0.1804s\n",
      "Being solved by Gurobi...\n",
      "Solution status: 2\n",
      "Running time: 0.1789s\n",
      "Being solved by Gurobi...\n",
      "Solution status: 2\n",
      "Running time: 0.2802s\n",
      "Being solved by Gurobi...\n",
      "Solution status: 2\n",
      "Running time: 2.5031s\n",
      "Being solved by Gurobi...\n",
      "Solution status: 2\n",
      "Running time: 0.1993s\n",
      "Being solved by Gurobi...\n",
      "Solution status: 2\n",
      "Running time: 0.1844s\n",
      "Being solved by Gurobi...\n",
      "Solution status: 2\n",
      "Running time: 0.1514s\n",
      "Being solved by Gurobi...\n",
      "Solution status: 2\n",
      "Running time: 0.1037s\n",
      "Being solved by Gurobi...\n",
      "Solution status: 2\n",
      "Running time: 0.0594s\n",
      "Being solved by Gurobi...\n",
      "Solution status: 2\n",
      "Running time: 3.8006s\n",
      "Being solved by Gurobi...\n",
      "Solution status: 2\n",
      "Running time: 1.1209s\n",
      "Being solved by Gurobi...\n",
      "Solution status: 2\n",
      "Running time: 0.2229s\n",
      "Being solved by Gurobi...\n",
      "Solution status: 2\n",
      "Running time: 0.0506s\n",
      "Being solved by Gurobi...\n",
      "Solution status: 2\n",
      "Running time: 0.1014s\n",
      "Being solved by Gurobi...\n",
      "Solution status: 2\n",
      "Running time: 0.3516s\n",
      "Being solved by Gurobi...\n",
      "Solution status: 2\n",
      "Running time: 5.9085s\n",
      "Being solved by Gurobi...\n",
      "Solution status: 2\n",
      "Running time: 0.1081s\n",
      "Being solved by Gurobi...\n",
      "Solution status: 2\n",
      "Running time: 0.1558s\n",
      "Being solved by Gurobi...\n",
      "Solution status: 2\n",
      "Running time: 0.0598s\n",
      "Being solved by Gurobi...\n",
      "Solution status: 2\n",
      "Running time: 0.0481s\n",
      "Being solved by Gurobi...\n",
      "Solution status: 2\n",
      "Running time: 0.1017s\n",
      "Being solved by Gurobi...\n",
      "Solution status: 2\n",
      "Running time: 5.5970s\n",
      "Being solved by Gurobi...\n",
      "Solution status: 2\n",
      "Running time: 0.1627s\n",
      "Being solved by Gurobi...\n",
      "Solution status: 2\n",
      "Running time: 0.1910s\n",
      "Being solved by Gurobi...\n",
      "Solution status: 2\n",
      "Running time: 0.1942s\n",
      "Being solved by Gurobi...\n",
      "Solution status: 2\n",
      "Running time: 0.1769s\n",
      "Being solved by Gurobi...\n",
      "Solution status: 2\n",
      "Running time: 0.1548s\n",
      "Being solved by Gurobi...\n",
      "Solution status: 2\n",
      "Running time: 4.1947s\n",
      "Being solved by Gurobi...\n",
      "Solution status: 2\n",
      "Running time: 0.1072s\n",
      "Being solved by Gurobi...\n",
      "Solution status: 2\n",
      "Running time: 0.0401s\n",
      "Being solved by Gurobi...\n",
      "Solution status: 2\n",
      "Running time: 0.0620s\n",
      "Being solved by Gurobi...\n",
      "Solution status: 2\n",
      "Running time: 0.1529s\n",
      "Being solved by Gurobi...\n",
      "Solution status: 2\n",
      "Running time: 0.0702s\n"
     ]
    },
    {
     "data": {
      "application/vnd.plotly.v1+json": {
       "config": {
        "plotlyServerURL": "https://plot.ly"
       },
       "data": [
        {
         "hovertemplate": "Category=Upper Limit of Driver Efficiency: 5<br>Iteration=%{x}<br>Profit=%{y}<extra></extra>",
         "legendgroup": "Upper Limit of Driver Efficiency: 5",
         "line": {
          "color": "#636efa",
          "dash": "solid"
         },
         "marker": {
          "symbol": "circle"
         },
         "mode": "lines",
         "name": "Upper Limit of Driver Efficiency: 5",
         "orientation": "v",
         "showlegend": true,
         "type": "scatter",
         "x": [
          0,
          1,
          2,
          3,
          4,
          5,
          6,
          7,
          8,
          9,
          10,
          11,
          12,
          13,
          14
         ],
         "xaxis": "x",
         "y": [
          4873,
          5026.000008117581,
          6004.000000000001,
          5638.1428571428505,
          6096.857147724493,
          5970.142857142858,
          5472,
          6394.666666666667,
          6529.000002014074,
          5285.880966590935,
          6214.523809523811,
          5810.936507936497,
          5818.666666666667,
          5542.904761904762,
          5444
         ],
         "yaxis": "y"
        },
        {
         "hovertemplate": "Category=Upper Limit of Driver Efficiency: 10<br>Iteration=%{x}<br>Profit=%{y}<extra></extra>",
         "legendgroup": "Upper Limit of Driver Efficiency: 10",
         "line": {
          "color": "#EF553B",
          "dash": "solid"
         },
         "marker": {
          "symbol": "circle"
         },
         "mode": "lines",
         "name": "Upper Limit of Driver Efficiency: 10",
         "orientation": "v",
         "showlegend": true,
         "type": "scatter",
         "x": [
          0,
          1,
          2,
          3,
          4,
          5,
          6,
          7,
          8,
          9,
          10,
          11,
          12,
          13,
          14
         ],
         "xaxis": "x",
         "y": [
          9836.227938727934,
          9108.417277167275,
          9509.136724386719,
          9436.667610167613,
          9358.339826839827,
          9519.887501387499,
          8847.623376623376,
          8946.84865134865,
          10242.200466200467,
          9760.254301254306,
          9120.229548229552,
          9373.668498168498,
          9144.852382911207,
          9570.011687658745,
          10121.89325706973
         ],
         "yaxis": "y"
        },
        {
         "hovertemplate": "Category=Upper Limit of Driver Efficiency: 15<br>Iteration=%{x}<br>Profit=%{y}<extra></extra>",
         "legendgroup": "Upper Limit of Driver Efficiency: 15",
         "line": {
          "color": "#00cc96",
          "dash": "solid"
         },
         "marker": {
          "symbol": "circle"
         },
         "mode": "lines",
         "name": "Upper Limit of Driver Efficiency: 15",
         "orientation": "v",
         "showlegend": true,
         "type": "scatter",
         "x": [
          0,
          1,
          2,
          3,
          4,
          5,
          6,
          7,
          8,
          9,
          10,
          11,
          12,
          13,
          14
         ],
         "xaxis": "x",
         "y": [
          10170.513675007483,
          9971.873947346081,
          9928.080362448012,
          10622.111150201705,
          10762.63914454475,
          10253.477325392187,
          10618.284991238548,
          10631.094971569462,
          10736.425626746835,
          10391.503467464767,
          10609.30574459367,
          10695.279690983254,
          10313.97624740689,
          10410.607864357864,
          10268.044530632762
         ],
         "yaxis": "y"
        },
        {
         "hovertemplate": "Category=Upper Limit of Driver Efficiency: 20<br>Iteration=%{x}<br>Profit=%{y}<extra></extra>",
         "legendgroup": "Upper Limit of Driver Efficiency: 20",
         "line": {
          "color": "#ab63fa",
          "dash": "solid"
         },
         "marker": {
          "symbol": "circle"
         },
         "mode": "lines",
         "name": "Upper Limit of Driver Efficiency: 20",
         "orientation": "v",
         "showlegend": true,
         "type": "scatter",
         "x": [
          0,
          1,
          2,
          3,
          4,
          5,
          6,
          7,
          8,
          9,
          10,
          11,
          12,
          13,
          14
         ],
         "xaxis": "x",
         "y": [
          10973.700126434593,
          10765.856786611139,
          11249.55624618809,
          11004.682190130925,
          10940.577933470042,
          10685.562976811703,
          10652.162771303372,
          10878.53430286899,
          10901.18748475951,
          10661.953280651298,
          10834.847803555236,
          10204.060040106466,
          10643.729110960232,
          10068.868786087458,
          10784.159859946583
         ],
         "yaxis": "y"
        },
        {
         "hovertemplate": "Category=Upper Limit of Driver Efficiency: 25<br>Iteration=%{x}<br>Profit=%{y}<extra></extra>",
         "legendgroup": "Upper Limit of Driver Efficiency: 25",
         "line": {
          "color": "#FFA15A",
          "dash": "solid"
         },
         "marker": {
          "symbol": "circle"
         },
         "mode": "lines",
         "name": "Upper Limit of Driver Efficiency: 25",
         "orientation": "v",
         "showlegend": true,
         "type": "scatter",
         "x": [
          0,
          1,
          2,
          3,
          4,
          5,
          6,
          7,
          8,
          9,
          10,
          11,
          12,
          13,
          14
         ],
         "xaxis": "x",
         "y": [
          10723.31455659074,
          10844.98463213399,
          11092.798015683204,
          11329.160121114423,
          10824.342072351888,
          10824.041061490176,
          10999.206858079076,
          11229.307648614657,
          10934.167619811316,
          10869.541834996196,
          11156.567318842985,
          10974.904027001556,
          11080.882718645014,
          11150.307022895477,
          11007.820417557492
         ],
         "yaxis": "y"
        },
        {
         "hovertemplate": "Category=Upper Limit of Driver Efficiency: 30<br>Iteration=%{x}<br>Profit=%{y}<extra></extra>",
         "legendgroup": "Upper Limit of Driver Efficiency: 30",
         "line": {
          "color": "#19d3f3",
          "dash": "solid"
         },
         "marker": {
          "symbol": "circle"
         },
         "mode": "lines",
         "name": "Upper Limit of Driver Efficiency: 30",
         "orientation": "v",
         "showlegend": true,
         "type": "scatter",
         "x": [
          0,
          1,
          2,
          3,
          4,
          5,
          6,
          7,
          8,
          9,
          10,
          11,
          12,
          13,
          14
         ],
         "xaxis": "x",
         "y": [
          11333.465446317277,
          11420.482962184706,
          10922.749954315834,
          10282.383104709479,
          11344.345228598731,
          11536.763661905123,
          11283.178019693145,
          11176.846789616737,
          11207.20158652831,
          11343.480781489508,
          11071.336967862246,
          10688.020936482022,
          11150.618229453537,
          11092.008975005814,
          11506.781665765819
         ],
         "yaxis": "y"
        }
       ],
       "layout": {
        "legend": {
         "title": {
          "text": "Category"
         },
         "tracegroupgap": 0
        },
        "template": {
         "data": {
          "bar": [
           {
            "error_x": {
             "color": "#2a3f5f"
            },
            "error_y": {
             "color": "#2a3f5f"
            },
            "marker": {
             "line": {
              "color": "#E5ECF6",
              "width": 0.5
             },
             "pattern": {
              "fillmode": "overlay",
              "size": 10,
              "solidity": 0.2
             }
            },
            "type": "bar"
           }
          ],
          "barpolar": [
           {
            "marker": {
             "line": {
              "color": "#E5ECF6",
              "width": 0.5
             },
             "pattern": {
              "fillmode": "overlay",
              "size": 10,
              "solidity": 0.2
             }
            },
            "type": "barpolar"
           }
          ],
          "carpet": [
           {
            "aaxis": {
             "endlinecolor": "#2a3f5f",
             "gridcolor": "white",
             "linecolor": "white",
             "minorgridcolor": "white",
             "startlinecolor": "#2a3f5f"
            },
            "baxis": {
             "endlinecolor": "#2a3f5f",
             "gridcolor": "white",
             "linecolor": "white",
             "minorgridcolor": "white",
             "startlinecolor": "#2a3f5f"
            },
            "type": "carpet"
           }
          ],
          "choropleth": [
           {
            "colorbar": {
             "outlinewidth": 0,
             "ticks": ""
            },
            "type": "choropleth"
           }
          ],
          "contour": [
           {
            "colorbar": {
             "outlinewidth": 0,
             "ticks": ""
            },
            "colorscale": [
             [
              0,
              "#0d0887"
             ],
             [
              0.1111111111111111,
              "#46039f"
             ],
             [
              0.2222222222222222,
              "#7201a8"
             ],
             [
              0.3333333333333333,
              "#9c179e"
             ],
             [
              0.4444444444444444,
              "#bd3786"
             ],
             [
              0.5555555555555556,
              "#d8576b"
             ],
             [
              0.6666666666666666,
              "#ed7953"
             ],
             [
              0.7777777777777778,
              "#fb9f3a"
             ],
             [
              0.8888888888888888,
              "#fdca26"
             ],
             [
              1,
              "#f0f921"
             ]
            ],
            "type": "contour"
           }
          ],
          "contourcarpet": [
           {
            "colorbar": {
             "outlinewidth": 0,
             "ticks": ""
            },
            "type": "contourcarpet"
           }
          ],
          "heatmap": [
           {
            "colorbar": {
             "outlinewidth": 0,
             "ticks": ""
            },
            "colorscale": [
             [
              0,
              "#0d0887"
             ],
             [
              0.1111111111111111,
              "#46039f"
             ],
             [
              0.2222222222222222,
              "#7201a8"
             ],
             [
              0.3333333333333333,
              "#9c179e"
             ],
             [
              0.4444444444444444,
              "#bd3786"
             ],
             [
              0.5555555555555556,
              "#d8576b"
             ],
             [
              0.6666666666666666,
              "#ed7953"
             ],
             [
              0.7777777777777778,
              "#fb9f3a"
             ],
             [
              0.8888888888888888,
              "#fdca26"
             ],
             [
              1,
              "#f0f921"
             ]
            ],
            "type": "heatmap"
           }
          ],
          "heatmapgl": [
           {
            "colorbar": {
             "outlinewidth": 0,
             "ticks": ""
            },
            "colorscale": [
             [
              0,
              "#0d0887"
             ],
             [
              0.1111111111111111,
              "#46039f"
             ],
             [
              0.2222222222222222,
              "#7201a8"
             ],
             [
              0.3333333333333333,
              "#9c179e"
             ],
             [
              0.4444444444444444,
              "#bd3786"
             ],
             [
              0.5555555555555556,
              "#d8576b"
             ],
             [
              0.6666666666666666,
              "#ed7953"
             ],
             [
              0.7777777777777778,
              "#fb9f3a"
             ],
             [
              0.8888888888888888,
              "#fdca26"
             ],
             [
              1,
              "#f0f921"
             ]
            ],
            "type": "heatmapgl"
           }
          ],
          "histogram": [
           {
            "marker": {
             "pattern": {
              "fillmode": "overlay",
              "size": 10,
              "solidity": 0.2
             }
            },
            "type": "histogram"
           }
          ],
          "histogram2d": [
           {
            "colorbar": {
             "outlinewidth": 0,
             "ticks": ""
            },
            "colorscale": [
             [
              0,
              "#0d0887"
             ],
             [
              0.1111111111111111,
              "#46039f"
             ],
             [
              0.2222222222222222,
              "#7201a8"
             ],
             [
              0.3333333333333333,
              "#9c179e"
             ],
             [
              0.4444444444444444,
              "#bd3786"
             ],
             [
              0.5555555555555556,
              "#d8576b"
             ],
             [
              0.6666666666666666,
              "#ed7953"
             ],
             [
              0.7777777777777778,
              "#fb9f3a"
             ],
             [
              0.8888888888888888,
              "#fdca26"
             ],
             [
              1,
              "#f0f921"
             ]
            ],
            "type": "histogram2d"
           }
          ],
          "histogram2dcontour": [
           {
            "colorbar": {
             "outlinewidth": 0,
             "ticks": ""
            },
            "colorscale": [
             [
              0,
              "#0d0887"
             ],
             [
              0.1111111111111111,
              "#46039f"
             ],
             [
              0.2222222222222222,
              "#7201a8"
             ],
             [
              0.3333333333333333,
              "#9c179e"
             ],
             [
              0.4444444444444444,
              "#bd3786"
             ],
             [
              0.5555555555555556,
              "#d8576b"
             ],
             [
              0.6666666666666666,
              "#ed7953"
             ],
             [
              0.7777777777777778,
              "#fb9f3a"
             ],
             [
              0.8888888888888888,
              "#fdca26"
             ],
             [
              1,
              "#f0f921"
             ]
            ],
            "type": "histogram2dcontour"
           }
          ],
          "mesh3d": [
           {
            "colorbar": {
             "outlinewidth": 0,
             "ticks": ""
            },
            "type": "mesh3d"
           }
          ],
          "parcoords": [
           {
            "line": {
             "colorbar": {
              "outlinewidth": 0,
              "ticks": ""
             }
            },
            "type": "parcoords"
           }
          ],
          "pie": [
           {
            "automargin": true,
            "type": "pie"
           }
          ],
          "scatter": [
           {
            "fillpattern": {
             "fillmode": "overlay",
             "size": 10,
             "solidity": 0.2
            },
            "type": "scatter"
           }
          ],
          "scatter3d": [
           {
            "line": {
             "colorbar": {
              "outlinewidth": 0,
              "ticks": ""
             }
            },
            "marker": {
             "colorbar": {
              "outlinewidth": 0,
              "ticks": ""
             }
            },
            "type": "scatter3d"
           }
          ],
          "scattercarpet": [
           {
            "marker": {
             "colorbar": {
              "outlinewidth": 0,
              "ticks": ""
             }
            },
            "type": "scattercarpet"
           }
          ],
          "scattergeo": [
           {
            "marker": {
             "colorbar": {
              "outlinewidth": 0,
              "ticks": ""
             }
            },
            "type": "scattergeo"
           }
          ],
          "scattergl": [
           {
            "marker": {
             "colorbar": {
              "outlinewidth": 0,
              "ticks": ""
             }
            },
            "type": "scattergl"
           }
          ],
          "scattermapbox": [
           {
            "marker": {
             "colorbar": {
              "outlinewidth": 0,
              "ticks": ""
             }
            },
            "type": "scattermapbox"
           }
          ],
          "scatterpolar": [
           {
            "marker": {
             "colorbar": {
              "outlinewidth": 0,
              "ticks": ""
             }
            },
            "type": "scatterpolar"
           }
          ],
          "scatterpolargl": [
           {
            "marker": {
             "colorbar": {
              "outlinewidth": 0,
              "ticks": ""
             }
            },
            "type": "scatterpolargl"
           }
          ],
          "scatterternary": [
           {
            "marker": {
             "colorbar": {
              "outlinewidth": 0,
              "ticks": ""
             }
            },
            "type": "scatterternary"
           }
          ],
          "surface": [
           {
            "colorbar": {
             "outlinewidth": 0,
             "ticks": ""
            },
            "colorscale": [
             [
              0,
              "#0d0887"
             ],
             [
              0.1111111111111111,
              "#46039f"
             ],
             [
              0.2222222222222222,
              "#7201a8"
             ],
             [
              0.3333333333333333,
              "#9c179e"
             ],
             [
              0.4444444444444444,
              "#bd3786"
             ],
             [
              0.5555555555555556,
              "#d8576b"
             ],
             [
              0.6666666666666666,
              "#ed7953"
             ],
             [
              0.7777777777777778,
              "#fb9f3a"
             ],
             [
              0.8888888888888888,
              "#fdca26"
             ],
             [
              1,
              "#f0f921"
             ]
            ],
            "type": "surface"
           }
          ],
          "table": [
           {
            "cells": {
             "fill": {
              "color": "#EBF0F8"
             },
             "line": {
              "color": "white"
             }
            },
            "header": {
             "fill": {
              "color": "#C8D4E3"
             },
             "line": {
              "color": "white"
             }
            },
            "type": "table"
           }
          ]
         },
         "layout": {
          "annotationdefaults": {
           "arrowcolor": "#2a3f5f",
           "arrowhead": 0,
           "arrowwidth": 1
          },
          "autotypenumbers": "strict",
          "coloraxis": {
           "colorbar": {
            "outlinewidth": 0,
            "ticks": ""
           }
          },
          "colorscale": {
           "diverging": [
            [
             0,
             "#8e0152"
            ],
            [
             0.1,
             "#c51b7d"
            ],
            [
             0.2,
             "#de77ae"
            ],
            [
             0.3,
             "#f1b6da"
            ],
            [
             0.4,
             "#fde0ef"
            ],
            [
             0.5,
             "#f7f7f7"
            ],
            [
             0.6,
             "#e6f5d0"
            ],
            [
             0.7,
             "#b8e186"
            ],
            [
             0.8,
             "#7fbc41"
            ],
            [
             0.9,
             "#4d9221"
            ],
            [
             1,
             "#276419"
            ]
           ],
           "sequential": [
            [
             0,
             "#0d0887"
            ],
            [
             0.1111111111111111,
             "#46039f"
            ],
            [
             0.2222222222222222,
             "#7201a8"
            ],
            [
             0.3333333333333333,
             "#9c179e"
            ],
            [
             0.4444444444444444,
             "#bd3786"
            ],
            [
             0.5555555555555556,
             "#d8576b"
            ],
            [
             0.6666666666666666,
             "#ed7953"
            ],
            [
             0.7777777777777778,
             "#fb9f3a"
            ],
            [
             0.8888888888888888,
             "#fdca26"
            ],
            [
             1,
             "#f0f921"
            ]
           ],
           "sequentialminus": [
            [
             0,
             "#0d0887"
            ],
            [
             0.1111111111111111,
             "#46039f"
            ],
            [
             0.2222222222222222,
             "#7201a8"
            ],
            [
             0.3333333333333333,
             "#9c179e"
            ],
            [
             0.4444444444444444,
             "#bd3786"
            ],
            [
             0.5555555555555556,
             "#d8576b"
            ],
            [
             0.6666666666666666,
             "#ed7953"
            ],
            [
             0.7777777777777778,
             "#fb9f3a"
            ],
            [
             0.8888888888888888,
             "#fdca26"
            ],
            [
             1,
             "#f0f921"
            ]
           ]
          },
          "colorway": [
           "#636efa",
           "#EF553B",
           "#00cc96",
           "#ab63fa",
           "#FFA15A",
           "#19d3f3",
           "#FF6692",
           "#B6E880",
           "#FF97FF",
           "#FECB52"
          ],
          "font": {
           "color": "#2a3f5f"
          },
          "geo": {
           "bgcolor": "white",
           "lakecolor": "white",
           "landcolor": "#E5ECF6",
           "showlakes": true,
           "showland": true,
           "subunitcolor": "white"
          },
          "hoverlabel": {
           "align": "left"
          },
          "hovermode": "closest",
          "mapbox": {
           "style": "light"
          },
          "paper_bgcolor": "white",
          "plot_bgcolor": "#E5ECF6",
          "polar": {
           "angularaxis": {
            "gridcolor": "white",
            "linecolor": "white",
            "ticks": ""
           },
           "bgcolor": "#E5ECF6",
           "radialaxis": {
            "gridcolor": "white",
            "linecolor": "white",
            "ticks": ""
           }
          },
          "scene": {
           "xaxis": {
            "backgroundcolor": "#E5ECF6",
            "gridcolor": "white",
            "gridwidth": 2,
            "linecolor": "white",
            "showbackground": true,
            "ticks": "",
            "zerolinecolor": "white"
           },
           "yaxis": {
            "backgroundcolor": "#E5ECF6",
            "gridcolor": "white",
            "gridwidth": 2,
            "linecolor": "white",
            "showbackground": true,
            "ticks": "",
            "zerolinecolor": "white"
           },
           "zaxis": {
            "backgroundcolor": "#E5ECF6",
            "gridcolor": "white",
            "gridwidth": 2,
            "linecolor": "white",
            "showbackground": true,
            "ticks": "",
            "zerolinecolor": "white"
           }
          },
          "shapedefaults": {
           "line": {
            "color": "#2a3f5f"
           }
          },
          "ternary": {
           "aaxis": {
            "gridcolor": "white",
            "linecolor": "white",
            "ticks": ""
           },
           "baxis": {
            "gridcolor": "white",
            "linecolor": "white",
            "ticks": ""
           },
           "bgcolor": "#E5ECF6",
           "caxis": {
            "gridcolor": "white",
            "linecolor": "white",
            "ticks": ""
           }
          },
          "title": {
           "x": 0.05
          },
          "xaxis": {
           "automargin": true,
           "gridcolor": "white",
           "linecolor": "white",
           "ticks": "",
           "title": {
            "standoff": 15
           },
           "zerolinecolor": "white",
           "zerolinewidth": 2
          },
          "yaxis": {
           "automargin": true,
           "gridcolor": "white",
           "linecolor": "white",
           "ticks": "",
           "title": {
            "standoff": 15
           },
           "zerolinecolor": "white",
           "zerolinewidth": 2
          }
         }
        },
        "title": {
         "text": "Single Day Optimisation: Varying Driver Efficiency"
        },
        "xaxis": {
         "anchor": "y",
         "domain": [
          0,
          1
         ],
         "title": {
          "text": "Iteration"
         }
        },
        "yaxis": {
         "anchor": "x",
         "domain": [
          0,
          1
         ],
         "title": {
          "text": "Profit"
         }
        }
       }
      }
     },
     "metadata": {},
     "output_type": "display_data"
    }
   ],
   "source": [
    "# Now, we perform some analysis using our single day model.\n",
    "# Some data as a reference point:\n",
    "# Ninjavan has roughly 8710 drivers and delivers 260000 parcels daily in SG.\n",
    "# Ref https://media.ninjavan.co/sg/wp-content/uploads/sites/9/2022/04/REPORT-Ninja-Van-Group-x-DPDGroup_-E-commerce-Barometer-Report-1.pdf\n",
    "# For our single day model, we scale this down by 200x.\n",
    "# (Some of the models may need to be ran multiple times as they may not be able to find an optimal solution every time.)\n",
    "nIterations = 15 # Number of iterations we will be running the model\n",
    "\n",
    "# First, we vary the number of drivers.\n",
    "vars = [5,15,25,35,45,55]\n",
    "profitsSingleDayVaryDrivers = {\n",
    "    'name' : [],\n",
    "    'iteration' : [],\n",
    "    'profit' : []\n",
    "}\n",
    "for i in range(nIterations):\n",
    "    for var in vars:\n",
    "        res = optimizeSingleDay(\n",
    "            nDistricts=28, \n",
    "            nDrivers=var, \n",
    "            totalParcels=1300, \n",
    "            costDelivered=10, \n",
    "            costUndelivered=8, \n",
    "            costDriver=20, \n",
    "            maxHours=8, \n",
    "            minDriverEfficiency=3, \n",
    "            maxDriverEfficiency=10\n",
    "            )\n",
    "        profitsSingleDayVaryDrivers['name'].append(str(var) + ' Drivers')\n",
    "        profitsSingleDayVaryDrivers['iteration'].append(i)\n",
    "        profitsSingleDayVaryDrivers['profit'].append(res)\n",
    "        \n",
    "df = pd.DataFrame(profitsSingleDayVaryDrivers)\n",
    "fig = px.line(df, x='iteration', y='profit', color='name', labels={'iteration': \"Iteration\", 'profit': \"Profit\", 'name': \"Category\"}, title='Single Day Optimisation: Varying no. of Drivers')\n",
    "fig.show()\n",
    "\n",
    "# We can see that as the number of drivers increase, marginal profit gain per driver decreases. \n",
    "# This is because as the number of available parcels to deliver decreases, some drivers are used less optimally.\n",
    "# We can also see that as the number of drivers increase, variance in profit decreases. \n",
    "# This is because parcels can be more reliably delivered optimally.\n",
    "\n",
    "# Next, we vary the number of districts.\n",
    "vars = [1,5,15,25,35,45]\n",
    "profitsSingleDayVaryDistricts = {\n",
    "    'name' : [],\n",
    "    'iteration' : [],\n",
    "    'profit' : []\n",
    "}\n",
    "for i in range(nIterations):\n",
    "    for var in vars:\n",
    "        res = optimizeSingleDay(\n",
    "            nDistricts=var, \n",
    "            nDrivers=25, \n",
    "            totalParcels=1300, \n",
    "            costDelivered=10, \n",
    "            costUndelivered=8, \n",
    "            costDriver=20, \n",
    "            maxHours=8, \n",
    "            minDriverEfficiency=3, \n",
    "            maxDriverEfficiency=10\n",
    "            )\n",
    "        profitsSingleDayVaryDistricts['name'].append(str(var) + ' Districts')\n",
    "        profitsSingleDayVaryDistricts['iteration'].append(i)\n",
    "        profitsSingleDayVaryDistricts['profit'].append(res)\n",
    "        \n",
    "df = pd.DataFrame(profitsSingleDayVaryDistricts)\n",
    "fig = px.line(df, x='iteration', y='profit', color='name', labels={'iteration': \"Iteration\", 'profit': \"Profit\", 'name': \"Category\"}, title='Single Day Optimisation: Varying no. of Districts')\n",
    "fig.show()\n",
    "\n",
    "# We can see that as the number of districts increase (keeping total drivers and parcels constant), profit decreases.\n",
    "# This is because past a certain threshold, parcels are spread too thin and drivers cannot be assigned optimally.\n",
    "\n",
    "# Lastly, we vary the upper limit of our driver's efficiency.\n",
    "vars = [5,10,15,20,25,30]\n",
    "profitsSingleDayVaryDEUL = {\n",
    "    'name' : [],\n",
    "    'iteration' : [],\n",
    "    'profit' : []\n",
    "}\n",
    "for i in range(nIterations):\n",
    "    for var in vars:\n",
    "        res = optimizeSingleDay(\n",
    "            nDistricts=28, \n",
    "            nDrivers=25, \n",
    "            totalParcels=1300, \n",
    "            costDelivered=10, \n",
    "            costUndelivered=8, \n",
    "            costDriver=20, \n",
    "            maxHours=8, \n",
    "            minDriverEfficiency=3, \n",
    "            maxDriverEfficiency=var\n",
    "            )\n",
    "        profitsSingleDayVaryDEUL['name'].append('Upper Limit of Driver Efficiency: ' + str(var))\n",
    "        profitsSingleDayVaryDEUL['iteration'].append(i)\n",
    "        profitsSingleDayVaryDEUL['profit'].append(res)\n",
    "        \n",
    "df = pd.DataFrame(profitsSingleDayVaryDEUL)\n",
    "fig = px.line(df, x='iteration', y='profit', color='name', labels={'iteration': \"Iteration\", 'profit': \"Profit\", 'name': \"Category\"}, title='Single Day Optimisation: Varying Driver Efficiency')\n",
    "fig.show()\n",
    "\n",
    "# We can see that as driver efficiency increases, profit increases, and variance decreases.\n",
    "# This is because drivers can more reliably deliver all parcels optimally."
   ]
  },
  {
   "cell_type": "code",
   "execution_count": 6,
   "metadata": {},
   "outputs": [],
   "source": [
    "# In reality, parcels not delivered at the end of the day are left to the next day.\n",
    "# Now, we introduce the dimension of time.\n",
    "\n",
    "def optimizeOverPeriod(nDays, nDistricts, nDrivers, totalParcelsAvg, totalParcelsSD, costDelivered, costUndelivered, costDriver, maxHours, minDriverEfficiency, maxDriverEfficiency):\n",
    "    \"\"\"\n",
    "    Optimizes capacity planning over a period of time.\n",
    "\n",
    "    Args:\n",
    "        nDays (int): Number of days to run optimizer over\n",
    "        nDistricts (int): Number of districts to deliver to\n",
    "        nDrivers (int): Number of drivers available\n",
    "        totalParcelsAvg (int): Average number of parcels to deliver each day\n",
    "        totalParcelsSD (int): Standard deviation of the number of parcels to deliver each day\n",
    "        costDelivered (int): Amount earned per successful delivery\n",
    "        costUndelivered (int): Cost per undelivered parcel at the end of every day\n",
    "        costDriver (int): Hourly wage of each driver\n",
    "        maxHours (int): Maximum number of hours each driver can work each day\n",
    "        minDriverEfficiency (int): Lower bound of the efficiency of each driver (in terms of parcels per hour)\n",
    "        maxDriverEfficiency (int): Upper bound of the efficiency of each driver (in terms of parcels per hour)\n",
    "\n",
    "    Returns:\n",
    "        model.get(): Maximum profit possible\n",
    "        profits.get(): Profits for each day\n",
    "    \"\"\"\n",
    "    \n",
    "    # Static Variables\n",
    "    baseParcels = [round(np.random.normal(totalParcelsAvg,totalParcelsSD)) for i in range(nDays)]\n",
    "    parcelDist = randomizeParcelDist(nDistricts)\n",
    "    \n",
    "    baseEfficiency = [random.randint(minDriverEfficiency, maxDriverEfficiency) for i in range(nDrivers)]\n",
    "    efficiencyMatrix = np.array([[bonusEfficiency(i, j, baseEfficiency[i], nDistricts, nDrivers) for i in range(nDrivers)] for j in range(nDistricts)])\n",
    "    efficiencyMatrix = np.tile(efficiencyMatrix, [nDays,1,1])\n",
    "    \n",
    "    model = ro.Model()\n",
    "\n",
    "    # Decision Variables\n",
    "    deliveringAmt = model.dvar((nDays, nDistricts, nDrivers), 'I') # 3D Matrix to keep track of the number of parcels each driver is delivering to each district each day\n",
    "    deliveringHours = model.dvar((nDays, nDistricts, nDrivers), 'C') # 3D Matrix to keep track of the number of hours each driver is putting in for each district each day\n",
    "    isDelivering = model.dvar((nDays, nDistricts, nDrivers), 'B') # 3D Matrix to keep track if a driver is delivering to a district each day\n",
    "    undeliveredParcels = model.dvar(nDays, 'I') # List to track the number of undelivered parcels each day\n",
    "    profits = model.dvar(nDays, 'C') # Keeps track of the profits of each day\n",
    "    \n",
    "    # Objective\n",
    "    model.max(profits.sum())\n",
    "\n",
    "    # Constraints\n",
    "    # Daily profit depends on number of parcels succesfully delivered and number of hours worked across all drivers\n",
    "    model.st(profits[i] <= deliveringAmt[i].sum()*costDelivered - undeliveredParcels[i]*costUndelivered - deliveringHours[i].sum()*costDriver for i in range(nDays))\n",
    "    \n",
    "    # Parcels to be delivered each day is calculated with that day's base + ytd leftover\n",
    "    model.st(undeliveredParcels[0] >= baseParcels[0]-deliveringAmt[0].sum())\n",
    "    model.st(undeliveredParcels[i] >= baseParcels[i]+undeliveredParcels[i-1]-deliveringAmt[i].sum() for i in range(1, nDays))\n",
    "\n",
    "    # Each driver cannot deliver more than his efficiency x hours\n",
    "    model.st(0 <= deliveringAmt, deliveringAmt <= efficiencyMatrix*deliveringHours)\n",
    "            \n",
    "    # Each driver cannot drive more hours than the max allowed\n",
    "    model.st(0 <= deliveringHours, deliveringHours <= isDelivering*maxHours)\n",
    "        \n",
    "    # Each driver can only deliver to 1 district\n",
    "    model.st(isDelivering[i].sum(axis=0) <= 1 for i in range(nDays))\n",
    "\n",
    "    # Number of parcels delivered per region cannot exceed total number of parcels available to be delivered to that region\n",
    "    for i in range(nDays):\n",
    "        for j in range(nDistricts):\n",
    "            if (i == 0):\n",
    "                model.st(deliveringAmt[i][j].sum() <= baseParcels[i]*parcelDist[j])\n",
    "            else:\n",
    "                model.st(deliveringAmt[i][j].sum() <= (baseParcels[i]+undeliveredParcels[i-1])*parcelDist[j])\n",
    "\n",
    "    model.solve(solver=grb, params={'LogToConsole': 0, 'OutputFlag': 0})\n",
    "    return model.get(), profits.get()"
   ]
  },
  {
   "cell_type": "code",
   "execution_count": 7,
   "metadata": {},
   "outputs": [
    {
     "name": "stdout",
     "output_type": "stream",
     "text": [
      "Being solved by Gurobi...\n",
      "Solution status: 2\n",
      "Running time: 0.0010s\n",
      "Being solved by Gurobi...\n",
      "Solution status: 2\n",
      "Running time: 0.0480s\n",
      "Being solved by Gurobi...\n",
      "Solution status: 2\n",
      "Running time: 0.0521s\n",
      "Being solved by Gurobi...\n",
      "Solution status: 2\n",
      "Running time: 3.1841s\n",
      "Being solved by Gurobi...\n",
      "Solution status: 2\n",
      "Running time: 67.5830s\n",
      "Being solved by Gurobi...\n",
      "Solution status: 2\n",
      "Running time: 44.1103s\n"
     ]
    },
    {
     "data": {
      "application/vnd.plotly.v1+json": {
       "config": {
        "plotlyServerURL": "https://plot.ly"
       },
       "data": [
        {
         "hovertemplate": "Category=1 Drivers<br>Day=%{x}<br>Profit=%{y}<extra></extra>",
         "legendgroup": "1 Drivers",
         "line": {
          "color": "#636efa",
          "dash": "solid"
         },
         "marker": {
          "symbol": "circle"
         },
         "mode": "lines",
         "name": "1 Drivers",
         "orientation": "v",
         "showlegend": true,
         "type": "scatter",
         "x": [
          1,
          2,
          3,
          4,
          5
         ],
         "xaxis": "x",
         "y": [
          -7536,
          -17480,
          -27384,
          -38312,
          -48464
         ],
         "yaxis": "y"
        },
        {
         "hovertemplate": "Category=5 Drivers<br>Day=%{x}<br>Profit=%{y}<extra></extra>",
         "legendgroup": "5 Drivers",
         "line": {
          "color": "#EF553B",
          "dash": "solid"
         },
         "marker": {
          "symbol": "circle"
         },
         "mode": "lines",
         "name": "5 Drivers",
         "orientation": "v",
         "showlegend": true,
         "type": "scatter",
         "x": [
          1,
          2,
          3,
          4,
          5
         ],
         "xaxis": "x",
         "y": [
          -4272,
          -13608,
          -19000,
          -24656,
          -32448
         ],
         "yaxis": "y"
        },
        {
         "hovertemplate": "Category=10 Drivers<br>Day=%{x}<br>Profit=%{y}<extra></extra>",
         "legendgroup": "10 Drivers",
         "line": {
          "color": "#00cc96",
          "dash": "solid"
         },
         "marker": {
          "symbol": "circle"
         },
         "mode": "lines",
         "name": "10 Drivers",
         "orientation": "v",
         "showlegend": true,
         "type": "scatter",
         "x": [
          1,
          2,
          3,
          4,
          5
         ],
         "xaxis": "x",
         "y": [
          248,
          -4160,
          -9680,
          -16312,
          -19928
         ],
         "yaxis": "y"
        },
        {
         "hovertemplate": "Category=15 Drivers<br>Day=%{x}<br>Profit=%{y}<extra></extra>",
         "legendgroup": "15 Drivers",
         "line": {
          "color": "#ab63fa",
          "dash": "solid"
         },
         "marker": {
          "symbol": "circle"
         },
         "mode": "lines",
         "name": "15 Drivers",
         "orientation": "v",
         "showlegend": true,
         "type": "scatter",
         "x": [
          1,
          2,
          3,
          4,
          5
         ],
         "xaxis": "x",
         "y": [
          7208,
          5640,
          4272,
          2320,
          1840
         ],
         "yaxis": "y"
        },
        {
         "hovertemplate": "Category=25 Drivers<br>Day=%{x}<br>Profit=%{y}<extra></extra>",
         "legendgroup": "25 Drivers",
         "line": {
          "color": "#FFA15A",
          "dash": "solid"
         },
         "marker": {
          "symbol": "circle"
         },
         "mode": "lines",
         "name": "25 Drivers",
         "orientation": "v",
         "showlegend": true,
         "type": "scatter",
         "x": [
          1,
          2,
          3,
          4,
          5
         ],
         "xaxis": "x",
         "y": [
          9042.222222222223,
          10561.333333333334,
          10963.833333333334,
          11146.666666666666,
          11064.714285714286
         ],
         "yaxis": "y"
        },
        {
         "hovertemplate": "Category=30 Drivers<br>Day=%{x}<br>Profit=%{y}<extra></extra>",
         "legendgroup": "30 Drivers",
         "line": {
          "color": "#19d3f3",
          "dash": "solid"
         },
         "marker": {
          "symbol": "circle"
         },
         "mode": "lines",
         "name": "30 Drivers",
         "orientation": "v",
         "showlegend": true,
         "type": "scatter",
         "x": [
          1,
          2,
          3,
          4,
          5
         ],
         "xaxis": "x",
         "y": [
          11817.11111111111,
          11280.333333333334,
          13474.222222222223,
          13962.444444444443,
          9552
         ],
         "yaxis": "y"
        }
       ],
       "layout": {
        "legend": {
         "title": {
          "text": "Category"
         },
         "tracegroupgap": 0
        },
        "template": {
         "data": {
          "bar": [
           {
            "error_x": {
             "color": "#2a3f5f"
            },
            "error_y": {
             "color": "#2a3f5f"
            },
            "marker": {
             "line": {
              "color": "#E5ECF6",
              "width": 0.5
             },
             "pattern": {
              "fillmode": "overlay",
              "size": 10,
              "solidity": 0.2
             }
            },
            "type": "bar"
           }
          ],
          "barpolar": [
           {
            "marker": {
             "line": {
              "color": "#E5ECF6",
              "width": 0.5
             },
             "pattern": {
              "fillmode": "overlay",
              "size": 10,
              "solidity": 0.2
             }
            },
            "type": "barpolar"
           }
          ],
          "carpet": [
           {
            "aaxis": {
             "endlinecolor": "#2a3f5f",
             "gridcolor": "white",
             "linecolor": "white",
             "minorgridcolor": "white",
             "startlinecolor": "#2a3f5f"
            },
            "baxis": {
             "endlinecolor": "#2a3f5f",
             "gridcolor": "white",
             "linecolor": "white",
             "minorgridcolor": "white",
             "startlinecolor": "#2a3f5f"
            },
            "type": "carpet"
           }
          ],
          "choropleth": [
           {
            "colorbar": {
             "outlinewidth": 0,
             "ticks": ""
            },
            "type": "choropleth"
           }
          ],
          "contour": [
           {
            "colorbar": {
             "outlinewidth": 0,
             "ticks": ""
            },
            "colorscale": [
             [
              0,
              "#0d0887"
             ],
             [
              0.1111111111111111,
              "#46039f"
             ],
             [
              0.2222222222222222,
              "#7201a8"
             ],
             [
              0.3333333333333333,
              "#9c179e"
             ],
             [
              0.4444444444444444,
              "#bd3786"
             ],
             [
              0.5555555555555556,
              "#d8576b"
             ],
             [
              0.6666666666666666,
              "#ed7953"
             ],
             [
              0.7777777777777778,
              "#fb9f3a"
             ],
             [
              0.8888888888888888,
              "#fdca26"
             ],
             [
              1,
              "#f0f921"
             ]
            ],
            "type": "contour"
           }
          ],
          "contourcarpet": [
           {
            "colorbar": {
             "outlinewidth": 0,
             "ticks": ""
            },
            "type": "contourcarpet"
           }
          ],
          "heatmap": [
           {
            "colorbar": {
             "outlinewidth": 0,
             "ticks": ""
            },
            "colorscale": [
             [
              0,
              "#0d0887"
             ],
             [
              0.1111111111111111,
              "#46039f"
             ],
             [
              0.2222222222222222,
              "#7201a8"
             ],
             [
              0.3333333333333333,
              "#9c179e"
             ],
             [
              0.4444444444444444,
              "#bd3786"
             ],
             [
              0.5555555555555556,
              "#d8576b"
             ],
             [
              0.6666666666666666,
              "#ed7953"
             ],
             [
              0.7777777777777778,
              "#fb9f3a"
             ],
             [
              0.8888888888888888,
              "#fdca26"
             ],
             [
              1,
              "#f0f921"
             ]
            ],
            "type": "heatmap"
           }
          ],
          "heatmapgl": [
           {
            "colorbar": {
             "outlinewidth": 0,
             "ticks": ""
            },
            "colorscale": [
             [
              0,
              "#0d0887"
             ],
             [
              0.1111111111111111,
              "#46039f"
             ],
             [
              0.2222222222222222,
              "#7201a8"
             ],
             [
              0.3333333333333333,
              "#9c179e"
             ],
             [
              0.4444444444444444,
              "#bd3786"
             ],
             [
              0.5555555555555556,
              "#d8576b"
             ],
             [
              0.6666666666666666,
              "#ed7953"
             ],
             [
              0.7777777777777778,
              "#fb9f3a"
             ],
             [
              0.8888888888888888,
              "#fdca26"
             ],
             [
              1,
              "#f0f921"
             ]
            ],
            "type": "heatmapgl"
           }
          ],
          "histogram": [
           {
            "marker": {
             "pattern": {
              "fillmode": "overlay",
              "size": 10,
              "solidity": 0.2
             }
            },
            "type": "histogram"
           }
          ],
          "histogram2d": [
           {
            "colorbar": {
             "outlinewidth": 0,
             "ticks": ""
            },
            "colorscale": [
             [
              0,
              "#0d0887"
             ],
             [
              0.1111111111111111,
              "#46039f"
             ],
             [
              0.2222222222222222,
              "#7201a8"
             ],
             [
              0.3333333333333333,
              "#9c179e"
             ],
             [
              0.4444444444444444,
              "#bd3786"
             ],
             [
              0.5555555555555556,
              "#d8576b"
             ],
             [
              0.6666666666666666,
              "#ed7953"
             ],
             [
              0.7777777777777778,
              "#fb9f3a"
             ],
             [
              0.8888888888888888,
              "#fdca26"
             ],
             [
              1,
              "#f0f921"
             ]
            ],
            "type": "histogram2d"
           }
          ],
          "histogram2dcontour": [
           {
            "colorbar": {
             "outlinewidth": 0,
             "ticks": ""
            },
            "colorscale": [
             [
              0,
              "#0d0887"
             ],
             [
              0.1111111111111111,
              "#46039f"
             ],
             [
              0.2222222222222222,
              "#7201a8"
             ],
             [
              0.3333333333333333,
              "#9c179e"
             ],
             [
              0.4444444444444444,
              "#bd3786"
             ],
             [
              0.5555555555555556,
              "#d8576b"
             ],
             [
              0.6666666666666666,
              "#ed7953"
             ],
             [
              0.7777777777777778,
              "#fb9f3a"
             ],
             [
              0.8888888888888888,
              "#fdca26"
             ],
             [
              1,
              "#f0f921"
             ]
            ],
            "type": "histogram2dcontour"
           }
          ],
          "mesh3d": [
           {
            "colorbar": {
             "outlinewidth": 0,
             "ticks": ""
            },
            "type": "mesh3d"
           }
          ],
          "parcoords": [
           {
            "line": {
             "colorbar": {
              "outlinewidth": 0,
              "ticks": ""
             }
            },
            "type": "parcoords"
           }
          ],
          "pie": [
           {
            "automargin": true,
            "type": "pie"
           }
          ],
          "scatter": [
           {
            "fillpattern": {
             "fillmode": "overlay",
             "size": 10,
             "solidity": 0.2
            },
            "type": "scatter"
           }
          ],
          "scatter3d": [
           {
            "line": {
             "colorbar": {
              "outlinewidth": 0,
              "ticks": ""
             }
            },
            "marker": {
             "colorbar": {
              "outlinewidth": 0,
              "ticks": ""
             }
            },
            "type": "scatter3d"
           }
          ],
          "scattercarpet": [
           {
            "marker": {
             "colorbar": {
              "outlinewidth": 0,
              "ticks": ""
             }
            },
            "type": "scattercarpet"
           }
          ],
          "scattergeo": [
           {
            "marker": {
             "colorbar": {
              "outlinewidth": 0,
              "ticks": ""
             }
            },
            "type": "scattergeo"
           }
          ],
          "scattergl": [
           {
            "marker": {
             "colorbar": {
              "outlinewidth": 0,
              "ticks": ""
             }
            },
            "type": "scattergl"
           }
          ],
          "scattermapbox": [
           {
            "marker": {
             "colorbar": {
              "outlinewidth": 0,
              "ticks": ""
             }
            },
            "type": "scattermapbox"
           }
          ],
          "scatterpolar": [
           {
            "marker": {
             "colorbar": {
              "outlinewidth": 0,
              "ticks": ""
             }
            },
            "type": "scatterpolar"
           }
          ],
          "scatterpolargl": [
           {
            "marker": {
             "colorbar": {
              "outlinewidth": 0,
              "ticks": ""
             }
            },
            "type": "scatterpolargl"
           }
          ],
          "scatterternary": [
           {
            "marker": {
             "colorbar": {
              "outlinewidth": 0,
              "ticks": ""
             }
            },
            "type": "scatterternary"
           }
          ],
          "surface": [
           {
            "colorbar": {
             "outlinewidth": 0,
             "ticks": ""
            },
            "colorscale": [
             [
              0,
              "#0d0887"
             ],
             [
              0.1111111111111111,
              "#46039f"
             ],
             [
              0.2222222222222222,
              "#7201a8"
             ],
             [
              0.3333333333333333,
              "#9c179e"
             ],
             [
              0.4444444444444444,
              "#bd3786"
             ],
             [
              0.5555555555555556,
              "#d8576b"
             ],
             [
              0.6666666666666666,
              "#ed7953"
             ],
             [
              0.7777777777777778,
              "#fb9f3a"
             ],
             [
              0.8888888888888888,
              "#fdca26"
             ],
             [
              1,
              "#f0f921"
             ]
            ],
            "type": "surface"
           }
          ],
          "table": [
           {
            "cells": {
             "fill": {
              "color": "#EBF0F8"
             },
             "line": {
              "color": "white"
             }
            },
            "header": {
             "fill": {
              "color": "#C8D4E3"
             },
             "line": {
              "color": "white"
             }
            },
            "type": "table"
           }
          ]
         },
         "layout": {
          "annotationdefaults": {
           "arrowcolor": "#2a3f5f",
           "arrowhead": 0,
           "arrowwidth": 1
          },
          "autotypenumbers": "strict",
          "coloraxis": {
           "colorbar": {
            "outlinewidth": 0,
            "ticks": ""
           }
          },
          "colorscale": {
           "diverging": [
            [
             0,
             "#8e0152"
            ],
            [
             0.1,
             "#c51b7d"
            ],
            [
             0.2,
             "#de77ae"
            ],
            [
             0.3,
             "#f1b6da"
            ],
            [
             0.4,
             "#fde0ef"
            ],
            [
             0.5,
             "#f7f7f7"
            ],
            [
             0.6,
             "#e6f5d0"
            ],
            [
             0.7,
             "#b8e186"
            ],
            [
             0.8,
             "#7fbc41"
            ],
            [
             0.9,
             "#4d9221"
            ],
            [
             1,
             "#276419"
            ]
           ],
           "sequential": [
            [
             0,
             "#0d0887"
            ],
            [
             0.1111111111111111,
             "#46039f"
            ],
            [
             0.2222222222222222,
             "#7201a8"
            ],
            [
             0.3333333333333333,
             "#9c179e"
            ],
            [
             0.4444444444444444,
             "#bd3786"
            ],
            [
             0.5555555555555556,
             "#d8576b"
            ],
            [
             0.6666666666666666,
             "#ed7953"
            ],
            [
             0.7777777777777778,
             "#fb9f3a"
            ],
            [
             0.8888888888888888,
             "#fdca26"
            ],
            [
             1,
             "#f0f921"
            ]
           ],
           "sequentialminus": [
            [
             0,
             "#0d0887"
            ],
            [
             0.1111111111111111,
             "#46039f"
            ],
            [
             0.2222222222222222,
             "#7201a8"
            ],
            [
             0.3333333333333333,
             "#9c179e"
            ],
            [
             0.4444444444444444,
             "#bd3786"
            ],
            [
             0.5555555555555556,
             "#d8576b"
            ],
            [
             0.6666666666666666,
             "#ed7953"
            ],
            [
             0.7777777777777778,
             "#fb9f3a"
            ],
            [
             0.8888888888888888,
             "#fdca26"
            ],
            [
             1,
             "#f0f921"
            ]
           ]
          },
          "colorway": [
           "#636efa",
           "#EF553B",
           "#00cc96",
           "#ab63fa",
           "#FFA15A",
           "#19d3f3",
           "#FF6692",
           "#B6E880",
           "#FF97FF",
           "#FECB52"
          ],
          "font": {
           "color": "#2a3f5f"
          },
          "geo": {
           "bgcolor": "white",
           "lakecolor": "white",
           "landcolor": "#E5ECF6",
           "showlakes": true,
           "showland": true,
           "subunitcolor": "white"
          },
          "hoverlabel": {
           "align": "left"
          },
          "hovermode": "closest",
          "mapbox": {
           "style": "light"
          },
          "paper_bgcolor": "white",
          "plot_bgcolor": "#E5ECF6",
          "polar": {
           "angularaxis": {
            "gridcolor": "white",
            "linecolor": "white",
            "ticks": ""
           },
           "bgcolor": "#E5ECF6",
           "radialaxis": {
            "gridcolor": "white",
            "linecolor": "white",
            "ticks": ""
           }
          },
          "scene": {
           "xaxis": {
            "backgroundcolor": "#E5ECF6",
            "gridcolor": "white",
            "gridwidth": 2,
            "linecolor": "white",
            "showbackground": true,
            "ticks": "",
            "zerolinecolor": "white"
           },
           "yaxis": {
            "backgroundcolor": "#E5ECF6",
            "gridcolor": "white",
            "gridwidth": 2,
            "linecolor": "white",
            "showbackground": true,
            "ticks": "",
            "zerolinecolor": "white"
           },
           "zaxis": {
            "backgroundcolor": "#E5ECF6",
            "gridcolor": "white",
            "gridwidth": 2,
            "linecolor": "white",
            "showbackground": true,
            "ticks": "",
            "zerolinecolor": "white"
           }
          },
          "shapedefaults": {
           "line": {
            "color": "#2a3f5f"
           }
          },
          "ternary": {
           "aaxis": {
            "gridcolor": "white",
            "linecolor": "white",
            "ticks": ""
           },
           "baxis": {
            "gridcolor": "white",
            "linecolor": "white",
            "ticks": ""
           },
           "bgcolor": "#E5ECF6",
           "caxis": {
            "gridcolor": "white",
            "linecolor": "white",
            "ticks": ""
           }
          },
          "title": {
           "x": 0.05
          },
          "xaxis": {
           "automargin": true,
           "gridcolor": "white",
           "linecolor": "white",
           "ticks": "",
           "title": {
            "standoff": 15
           },
           "zerolinecolor": "white",
           "zerolinewidth": 2
          },
          "yaxis": {
           "automargin": true,
           "gridcolor": "white",
           "linecolor": "white",
           "ticks": "",
           "title": {
            "standoff": 15
           },
           "zerolinecolor": "white",
           "zerolinewidth": 2
          }
         }
        },
        "title": {
         "text": "Multi Day Optimisation: Varying no. of Drivers"
        },
        "xaxis": {
         "anchor": "y",
         "domain": [
          0,
          1
         ],
         "title": {
          "text": "Day"
         }
        },
        "yaxis": {
         "anchor": "x",
         "domain": [
          0,
          1
         ],
         "title": {
          "text": "Profit"
         }
        }
       }
      }
     },
     "metadata": {},
     "output_type": "display_data"
    },
    {
     "name": "stdout",
     "output_type": "stream",
     "text": [
      "Being solved by Gurobi...\n",
      "Solution status: 2\n",
      "Running time: 0.0472s\n",
      "Being solved by Gurobi...\n",
      "Solution status: 2\n",
      "Running time: 0.6570s\n",
      "Being solved by Gurobi...\n",
      "Solution status: 2\n",
      "Running time: 0.3445s\n",
      "Being solved by Gurobi...\n",
      "Solution status: 2\n",
      "Running time: 3.4048s\n",
      "Being solved by Gurobi...\n",
      "Solution status: 2\n",
      "Running time: 3.5251s\n",
      "Being solved by Gurobi...\n",
      "Solution status: 2\n",
      "Running time: 108.0103s\n"
     ]
    },
    {
     "data": {
      "application/vnd.plotly.v1+json": {
       "config": {
        "plotlyServerURL": "https://plot.ly"
       },
       "data": [
        {
         "hovertemplate": "Category=2 Districts<br>Day=%{x}<br>Profit=%{y}<extra></extra>",
         "legendgroup": "2 Districts",
         "line": {
          "color": "#636efa",
          "dash": "solid"
         },
         "marker": {
          "symbol": "circle"
         },
         "mode": "lines",
         "name": "2 Districts",
         "orientation": "v",
         "showlegend": true,
         "type": "scatter",
         "x": [
          1,
          2,
          3,
          4,
          5
         ],
         "xaxis": "x",
         "y": [
          2320,
          160,
          -1312,
          -3016,
          -4384
         ],
         "yaxis": "y"
        },
        {
         "hovertemplate": "Category=4 Districts<br>Day=%{x}<br>Profit=%{y}<extra></extra>",
         "legendgroup": "4 Districts",
         "line": {
          "color": "#EF553B",
          "dash": "solid"
         },
         "marker": {
          "symbol": "circle"
         },
         "mode": "lines",
         "name": "4 Districts",
         "orientation": "v",
         "showlegend": true,
         "type": "scatter",
         "x": [
          1,
          2,
          3,
          4,
          5
         ],
         "xaxis": "x",
         "y": [
          4272,
          3824,
          4280,
          3176,
          2712
         ],
         "yaxis": "y"
        },
        {
         "hovertemplate": "Category=6 Districts<br>Day=%{x}<br>Profit=%{y}<extra></extra>",
         "legendgroup": "6 Districts",
         "line": {
          "color": "#00cc96",
          "dash": "solid"
         },
         "marker": {
          "symbol": "circle"
         },
         "mode": "lines",
         "name": "6 Districts",
         "orientation": "v",
         "showlegend": true,
         "type": "scatter",
         "x": [
          1,
          2,
          3,
          4,
          5
         ],
         "xaxis": "x",
         "y": [
          2512,
          226.66666666666697,
          -860,
          -2544,
          -3264
         ],
         "yaxis": "y"
        },
        {
         "hovertemplate": "Category=9 Districts<br>Day=%{x}<br>Profit=%{y}<extra></extra>",
         "legendgroup": "9 Districts",
         "line": {
          "color": "#ab63fa",
          "dash": "solid"
         },
         "marker": {
          "symbol": "circle"
         },
         "mode": "lines",
         "name": "9 Districts",
         "orientation": "v",
         "showlegend": true,
         "type": "scatter",
         "x": [
          1,
          2,
          3,
          4,
          5
         ],
         "xaxis": "x",
         "y": [
          3974.666666666667,
          2677.333333333333,
          1672,
          520,
          -440
         ],
         "yaxis": "y"
        },
        {
         "hovertemplate": "Category=12 Districts<br>Day=%{x}<br>Profit=%{y}<extra></extra>",
         "legendgroup": "12 Districts",
         "line": {
          "color": "#FFA15A",
          "dash": "solid"
         },
         "marker": {
          "symbol": "circle"
         },
         "mode": "lines",
         "name": "12 Districts",
         "orientation": "v",
         "showlegend": true,
         "type": "scatter",
         "x": [
          1,
          2,
          3,
          4,
          5
         ],
         "xaxis": "x",
         "y": [
          3323.857142857143,
          2387.9047619047615,
          2209.523821096578,
          1903.6190531899947,
          2002.476196047137
         ],
         "yaxis": "y"
        },
        {
         "hovertemplate": "Category=15 Districts<br>Day=%{x}<br>Profit=%{y}<extra></extra>",
         "legendgroup": "15 Districts",
         "line": {
          "color": "#19d3f3",
          "dash": "solid"
         },
         "marker": {
          "symbol": "circle"
         },
         "mode": "lines",
         "name": "15 Districts",
         "orientation": "v",
         "showlegend": true,
         "type": "scatter",
         "x": [
          1,
          2,
          3,
          4,
          5
         ],
         "xaxis": "x",
         "y": [
          4356.542124542124,
          4147.799755799756,
          4636.473748473749,
          4629.149073149073,
          4508.0952380952385
         ],
         "yaxis": "y"
        }
       ],
       "layout": {
        "legend": {
         "title": {
          "text": "Category"
         },
         "tracegroupgap": 0
        },
        "template": {
         "data": {
          "bar": [
           {
            "error_x": {
             "color": "#2a3f5f"
            },
            "error_y": {
             "color": "#2a3f5f"
            },
            "marker": {
             "line": {
              "color": "#E5ECF6",
              "width": 0.5
             },
             "pattern": {
              "fillmode": "overlay",
              "size": 10,
              "solidity": 0.2
             }
            },
            "type": "bar"
           }
          ],
          "barpolar": [
           {
            "marker": {
             "line": {
              "color": "#E5ECF6",
              "width": 0.5
             },
             "pattern": {
              "fillmode": "overlay",
              "size": 10,
              "solidity": 0.2
             }
            },
            "type": "barpolar"
           }
          ],
          "carpet": [
           {
            "aaxis": {
             "endlinecolor": "#2a3f5f",
             "gridcolor": "white",
             "linecolor": "white",
             "minorgridcolor": "white",
             "startlinecolor": "#2a3f5f"
            },
            "baxis": {
             "endlinecolor": "#2a3f5f",
             "gridcolor": "white",
             "linecolor": "white",
             "minorgridcolor": "white",
             "startlinecolor": "#2a3f5f"
            },
            "type": "carpet"
           }
          ],
          "choropleth": [
           {
            "colorbar": {
             "outlinewidth": 0,
             "ticks": ""
            },
            "type": "choropleth"
           }
          ],
          "contour": [
           {
            "colorbar": {
             "outlinewidth": 0,
             "ticks": ""
            },
            "colorscale": [
             [
              0,
              "#0d0887"
             ],
             [
              0.1111111111111111,
              "#46039f"
             ],
             [
              0.2222222222222222,
              "#7201a8"
             ],
             [
              0.3333333333333333,
              "#9c179e"
             ],
             [
              0.4444444444444444,
              "#bd3786"
             ],
             [
              0.5555555555555556,
              "#d8576b"
             ],
             [
              0.6666666666666666,
              "#ed7953"
             ],
             [
              0.7777777777777778,
              "#fb9f3a"
             ],
             [
              0.8888888888888888,
              "#fdca26"
             ],
             [
              1,
              "#f0f921"
             ]
            ],
            "type": "contour"
           }
          ],
          "contourcarpet": [
           {
            "colorbar": {
             "outlinewidth": 0,
             "ticks": ""
            },
            "type": "contourcarpet"
           }
          ],
          "heatmap": [
           {
            "colorbar": {
             "outlinewidth": 0,
             "ticks": ""
            },
            "colorscale": [
             [
              0,
              "#0d0887"
             ],
             [
              0.1111111111111111,
              "#46039f"
             ],
             [
              0.2222222222222222,
              "#7201a8"
             ],
             [
              0.3333333333333333,
              "#9c179e"
             ],
             [
              0.4444444444444444,
              "#bd3786"
             ],
             [
              0.5555555555555556,
              "#d8576b"
             ],
             [
              0.6666666666666666,
              "#ed7953"
             ],
             [
              0.7777777777777778,
              "#fb9f3a"
             ],
             [
              0.8888888888888888,
              "#fdca26"
             ],
             [
              1,
              "#f0f921"
             ]
            ],
            "type": "heatmap"
           }
          ],
          "heatmapgl": [
           {
            "colorbar": {
             "outlinewidth": 0,
             "ticks": ""
            },
            "colorscale": [
             [
              0,
              "#0d0887"
             ],
             [
              0.1111111111111111,
              "#46039f"
             ],
             [
              0.2222222222222222,
              "#7201a8"
             ],
             [
              0.3333333333333333,
              "#9c179e"
             ],
             [
              0.4444444444444444,
              "#bd3786"
             ],
             [
              0.5555555555555556,
              "#d8576b"
             ],
             [
              0.6666666666666666,
              "#ed7953"
             ],
             [
              0.7777777777777778,
              "#fb9f3a"
             ],
             [
              0.8888888888888888,
              "#fdca26"
             ],
             [
              1,
              "#f0f921"
             ]
            ],
            "type": "heatmapgl"
           }
          ],
          "histogram": [
           {
            "marker": {
             "pattern": {
              "fillmode": "overlay",
              "size": 10,
              "solidity": 0.2
             }
            },
            "type": "histogram"
           }
          ],
          "histogram2d": [
           {
            "colorbar": {
             "outlinewidth": 0,
             "ticks": ""
            },
            "colorscale": [
             [
              0,
              "#0d0887"
             ],
             [
              0.1111111111111111,
              "#46039f"
             ],
             [
              0.2222222222222222,
              "#7201a8"
             ],
             [
              0.3333333333333333,
              "#9c179e"
             ],
             [
              0.4444444444444444,
              "#bd3786"
             ],
             [
              0.5555555555555556,
              "#d8576b"
             ],
             [
              0.6666666666666666,
              "#ed7953"
             ],
             [
              0.7777777777777778,
              "#fb9f3a"
             ],
             [
              0.8888888888888888,
              "#fdca26"
             ],
             [
              1,
              "#f0f921"
             ]
            ],
            "type": "histogram2d"
           }
          ],
          "histogram2dcontour": [
           {
            "colorbar": {
             "outlinewidth": 0,
             "ticks": ""
            },
            "colorscale": [
             [
              0,
              "#0d0887"
             ],
             [
              0.1111111111111111,
              "#46039f"
             ],
             [
              0.2222222222222222,
              "#7201a8"
             ],
             [
              0.3333333333333333,
              "#9c179e"
             ],
             [
              0.4444444444444444,
              "#bd3786"
             ],
             [
              0.5555555555555556,
              "#d8576b"
             ],
             [
              0.6666666666666666,
              "#ed7953"
             ],
             [
              0.7777777777777778,
              "#fb9f3a"
             ],
             [
              0.8888888888888888,
              "#fdca26"
             ],
             [
              1,
              "#f0f921"
             ]
            ],
            "type": "histogram2dcontour"
           }
          ],
          "mesh3d": [
           {
            "colorbar": {
             "outlinewidth": 0,
             "ticks": ""
            },
            "type": "mesh3d"
           }
          ],
          "parcoords": [
           {
            "line": {
             "colorbar": {
              "outlinewidth": 0,
              "ticks": ""
             }
            },
            "type": "parcoords"
           }
          ],
          "pie": [
           {
            "automargin": true,
            "type": "pie"
           }
          ],
          "scatter": [
           {
            "fillpattern": {
             "fillmode": "overlay",
             "size": 10,
             "solidity": 0.2
            },
            "type": "scatter"
           }
          ],
          "scatter3d": [
           {
            "line": {
             "colorbar": {
              "outlinewidth": 0,
              "ticks": ""
             }
            },
            "marker": {
             "colorbar": {
              "outlinewidth": 0,
              "ticks": ""
             }
            },
            "type": "scatter3d"
           }
          ],
          "scattercarpet": [
           {
            "marker": {
             "colorbar": {
              "outlinewidth": 0,
              "ticks": ""
             }
            },
            "type": "scattercarpet"
           }
          ],
          "scattergeo": [
           {
            "marker": {
             "colorbar": {
              "outlinewidth": 0,
              "ticks": ""
             }
            },
            "type": "scattergeo"
           }
          ],
          "scattergl": [
           {
            "marker": {
             "colorbar": {
              "outlinewidth": 0,
              "ticks": ""
             }
            },
            "type": "scattergl"
           }
          ],
          "scattermapbox": [
           {
            "marker": {
             "colorbar": {
              "outlinewidth": 0,
              "ticks": ""
             }
            },
            "type": "scattermapbox"
           }
          ],
          "scatterpolar": [
           {
            "marker": {
             "colorbar": {
              "outlinewidth": 0,
              "ticks": ""
             }
            },
            "type": "scatterpolar"
           }
          ],
          "scatterpolargl": [
           {
            "marker": {
             "colorbar": {
              "outlinewidth": 0,
              "ticks": ""
             }
            },
            "type": "scatterpolargl"
           }
          ],
          "scatterternary": [
           {
            "marker": {
             "colorbar": {
              "outlinewidth": 0,
              "ticks": ""
             }
            },
            "type": "scatterternary"
           }
          ],
          "surface": [
           {
            "colorbar": {
             "outlinewidth": 0,
             "ticks": ""
            },
            "colorscale": [
             [
              0,
              "#0d0887"
             ],
             [
              0.1111111111111111,
              "#46039f"
             ],
             [
              0.2222222222222222,
              "#7201a8"
             ],
             [
              0.3333333333333333,
              "#9c179e"
             ],
             [
              0.4444444444444444,
              "#bd3786"
             ],
             [
              0.5555555555555556,
              "#d8576b"
             ],
             [
              0.6666666666666666,
              "#ed7953"
             ],
             [
              0.7777777777777778,
              "#fb9f3a"
             ],
             [
              0.8888888888888888,
              "#fdca26"
             ],
             [
              1,
              "#f0f921"
             ]
            ],
            "type": "surface"
           }
          ],
          "table": [
           {
            "cells": {
             "fill": {
              "color": "#EBF0F8"
             },
             "line": {
              "color": "white"
             }
            },
            "header": {
             "fill": {
              "color": "#C8D4E3"
             },
             "line": {
              "color": "white"
             }
            },
            "type": "table"
           }
          ]
         },
         "layout": {
          "annotationdefaults": {
           "arrowcolor": "#2a3f5f",
           "arrowhead": 0,
           "arrowwidth": 1
          },
          "autotypenumbers": "strict",
          "coloraxis": {
           "colorbar": {
            "outlinewidth": 0,
            "ticks": ""
           }
          },
          "colorscale": {
           "diverging": [
            [
             0,
             "#8e0152"
            ],
            [
             0.1,
             "#c51b7d"
            ],
            [
             0.2,
             "#de77ae"
            ],
            [
             0.3,
             "#f1b6da"
            ],
            [
             0.4,
             "#fde0ef"
            ],
            [
             0.5,
             "#f7f7f7"
            ],
            [
             0.6,
             "#e6f5d0"
            ],
            [
             0.7,
             "#b8e186"
            ],
            [
             0.8,
             "#7fbc41"
            ],
            [
             0.9,
             "#4d9221"
            ],
            [
             1,
             "#276419"
            ]
           ],
           "sequential": [
            [
             0,
             "#0d0887"
            ],
            [
             0.1111111111111111,
             "#46039f"
            ],
            [
             0.2222222222222222,
             "#7201a8"
            ],
            [
             0.3333333333333333,
             "#9c179e"
            ],
            [
             0.4444444444444444,
             "#bd3786"
            ],
            [
             0.5555555555555556,
             "#d8576b"
            ],
            [
             0.6666666666666666,
             "#ed7953"
            ],
            [
             0.7777777777777778,
             "#fb9f3a"
            ],
            [
             0.8888888888888888,
             "#fdca26"
            ],
            [
             1,
             "#f0f921"
            ]
           ],
           "sequentialminus": [
            [
             0,
             "#0d0887"
            ],
            [
             0.1111111111111111,
             "#46039f"
            ],
            [
             0.2222222222222222,
             "#7201a8"
            ],
            [
             0.3333333333333333,
             "#9c179e"
            ],
            [
             0.4444444444444444,
             "#bd3786"
            ],
            [
             0.5555555555555556,
             "#d8576b"
            ],
            [
             0.6666666666666666,
             "#ed7953"
            ],
            [
             0.7777777777777778,
             "#fb9f3a"
            ],
            [
             0.8888888888888888,
             "#fdca26"
            ],
            [
             1,
             "#f0f921"
            ]
           ]
          },
          "colorway": [
           "#636efa",
           "#EF553B",
           "#00cc96",
           "#ab63fa",
           "#FFA15A",
           "#19d3f3",
           "#FF6692",
           "#B6E880",
           "#FF97FF",
           "#FECB52"
          ],
          "font": {
           "color": "#2a3f5f"
          },
          "geo": {
           "bgcolor": "white",
           "lakecolor": "white",
           "landcolor": "#E5ECF6",
           "showlakes": true,
           "showland": true,
           "subunitcolor": "white"
          },
          "hoverlabel": {
           "align": "left"
          },
          "hovermode": "closest",
          "mapbox": {
           "style": "light"
          },
          "paper_bgcolor": "white",
          "plot_bgcolor": "#E5ECF6",
          "polar": {
           "angularaxis": {
            "gridcolor": "white",
            "linecolor": "white",
            "ticks": ""
           },
           "bgcolor": "#E5ECF6",
           "radialaxis": {
            "gridcolor": "white",
            "linecolor": "white",
            "ticks": ""
           }
          },
          "scene": {
           "xaxis": {
            "backgroundcolor": "#E5ECF6",
            "gridcolor": "white",
            "gridwidth": 2,
            "linecolor": "white",
            "showbackground": true,
            "ticks": "",
            "zerolinecolor": "white"
           },
           "yaxis": {
            "backgroundcolor": "#E5ECF6",
            "gridcolor": "white",
            "gridwidth": 2,
            "linecolor": "white",
            "showbackground": true,
            "ticks": "",
            "zerolinecolor": "white"
           },
           "zaxis": {
            "backgroundcolor": "#E5ECF6",
            "gridcolor": "white",
            "gridwidth": 2,
            "linecolor": "white",
            "showbackground": true,
            "ticks": "",
            "zerolinecolor": "white"
           }
          },
          "shapedefaults": {
           "line": {
            "color": "#2a3f5f"
           }
          },
          "ternary": {
           "aaxis": {
            "gridcolor": "white",
            "linecolor": "white",
            "ticks": ""
           },
           "baxis": {
            "gridcolor": "white",
            "linecolor": "white",
            "ticks": ""
           },
           "bgcolor": "#E5ECF6",
           "caxis": {
            "gridcolor": "white",
            "linecolor": "white",
            "ticks": ""
           }
          },
          "title": {
           "x": 0.05
          },
          "xaxis": {
           "automargin": true,
           "gridcolor": "white",
           "linecolor": "white",
           "ticks": "",
           "title": {
            "standoff": 15
           },
           "zerolinecolor": "white",
           "zerolinewidth": 2
          },
          "yaxis": {
           "automargin": true,
           "gridcolor": "white",
           "linecolor": "white",
           "ticks": "",
           "title": {
            "standoff": 15
           },
           "zerolinecolor": "white",
           "zerolinewidth": 2
          }
         }
        },
        "title": {
         "text": "Multi Day Optimisation: Varying no. of Districts"
        },
        "xaxis": {
         "anchor": "y",
         "domain": [
          0,
          1
         ],
         "title": {
          "text": "Day"
         }
        },
        "yaxis": {
         "anchor": "x",
         "domain": [
          0,
          1
         ],
         "title": {
          "text": "Profit"
         }
        }
       }
      }
     },
     "metadata": {},
     "output_type": "display_data"
    }
   ],
   "source": [
    "# Now, we perform some analysis using our multi day model.\n",
    "# (Some of the models may need to be ran multiple times as they may not be able to find an optimal solution every time.)\n",
    "\n",
    "# First, we vary the number of drivers.\n",
    "vars = [1,5,10,15,25,30]\n",
    "profitsMultiDayVaryDrivers = {\n",
    "    'name' : [],\n",
    "    'day' : [],\n",
    "    'profit' : []\n",
    "}\n",
    "\n",
    "for var in vars:\n",
    "    res, resProfits = optimizeOverPeriod(\n",
    "        nDays=5,\n",
    "        nDistricts=5, \n",
    "        nDrivers=var, \n",
    "        totalParcelsAvg=1300,\n",
    "        totalParcelsSD=200, \n",
    "        costDelivered=10, \n",
    "        costUndelivered=8, \n",
    "        costDriver=20, \n",
    "        maxHours=8, \n",
    "        minDriverEfficiency=3, \n",
    "        maxDriverEfficiency=10\n",
    "        )\n",
    "    for i in range(len(resProfits)):\n",
    "        profitsMultiDayVaryDrivers['name'].append(str(var) + ' Drivers')\n",
    "        profitsMultiDayVaryDrivers['day'].append(i+1)\n",
    "        profitsMultiDayVaryDrivers['profit'].append(resProfits[i])\n",
    "        \n",
    "df = pd.DataFrame(profitsMultiDayVaryDrivers)\n",
    "fig = px.line(df, x='day', y='profit', color='name', labels={'day': \"Day\", 'profit': \"Profit\", 'name': \"Category\"}, title='Multi Day Optimisation: Varying no. of Drivers')\n",
    "fig.show()\n",
    "\n",
    "# We can see that as time progresses, the undelivered parcels stockpile and this results in decreasing profit.\n",
    "# We can also see that as the number of drivers increase, marginal profit gain per driver and variance remains relatively constant, contrasting to our single day model.\n",
    "# When parcels are carried over to the next day, there are more parcels to be delivered, hence drivers can be more consistently utilised more optimally.\n",
    "\n",
    "# Next, we vary the number of districts.\n",
    "vars = [2,4,6,9,12,15]\n",
    "profitsMultiDayVaryDistricts = {\n",
    "    'name' : [],\n",
    "    'day' : [],\n",
    "    'profit' : []\n",
    "}\n",
    "\n",
    "for var in vars:\n",
    "    res, resProfits = optimizeOverPeriod(\n",
    "        nDays=5,\n",
    "        nDistricts=var, \n",
    "        nDrivers=10, \n",
    "        totalParcelsAvg=850,\n",
    "        totalParcelsSD=85, \n",
    "        costDelivered=10, \n",
    "        costUndelivered=8, \n",
    "        costDriver=20, \n",
    "        maxHours=8, \n",
    "        minDriverEfficiency=3, \n",
    "        maxDriverEfficiency=10\n",
    "        )\n",
    "    for i in range(len(resProfits)):\n",
    "        profitsMultiDayVaryDistricts['name'].append(str(var) + ' Districts')\n",
    "        profitsMultiDayVaryDistricts['day'].append(i+1)\n",
    "        profitsMultiDayVaryDistricts['profit'].append(resProfits[i])\n",
    "        \n",
    "df = pd.DataFrame(profitsMultiDayVaryDistricts)\n",
    "fig = px.line(df, x='day', y='profit', color='name', labels={'day': \"Day\", 'profit': \"Profit\", 'name': \"Category\"}, title='Multi Day Optimisation: Varying no. of Districts')\n",
    "fig.show()\n",
    "\n",
    "# Interestingly enough, there are no meaningful trends here, as compared to our single day model."
   ]
  },
  {
   "cell_type": "code",
   "execution_count": 3,
   "metadata": {},
   "outputs": [],
   "source": [
    "# Finally, we want to add an element of uncertainty, as in reality, some parcels are returned even though they have been successfully delivered.\n",
    "\n",
    "def optimizeOverPeriodWithReturn(returnRate, nDays, nDistricts, nDrivers, totalParcelsAvg, totalParcelsSD, costDelivered, costUndelivered, costDriver, maxHours, minDriverEfficiency, maxDriverEfficiency):\n",
    "    \"\"\"\n",
    "    Optimizes capacity planning over a period of time, factoring in possible returning of delivered packages.\n",
    "\n",
    "    Args:\n",
    "        returnRate (float): Average return rate of a delivered parcel. In decimal form\n",
    "        nDays (int): Number of days to run optimizer over\n",
    "        nDistricts (int): Number of districts to deliver to\n",
    "        nDrivers (int): Number of drivers available\n",
    "        totalParcelsAvg (int): Average number of parcels to deliver each day\n",
    "        totalParcelsSD (int): Standard deviation of the number of parcels to deliver each day\n",
    "        costDelivered (int): Amount earned per successful delivery\n",
    "        costUndelivered (int): Cost per undelivered parcel at the end of every day\n",
    "        costDriver (int): Hourly wage of each driver\n",
    "        maxHours (int): Maximum number of hours each driver can work each day\n",
    "        minDriverEfficiency (int): Lower bound of the efficiency of each driver (in terms of parcels per hour)\n",
    "        maxDriverEfficiency (int): Upper bound of the efficiency of each driver (in terms of parcels per hour)\n",
    "\n",
    "    Returns:\n",
    "        model.get(): Maximum profit possible\n",
    "        profits.get(): Profits for each day\n",
    "    \"\"\"\n",
    "    # Static Variables\n",
    "    baseParcels = [round(np.random.normal(totalParcelsAvg,totalParcelsSD)) for i in range(nDays)]\n",
    "    parcelDist = randomizeParcelDist(nDistricts)\n",
    "    \n",
    "    baseEfficiency = [random.randint(minDriverEfficiency, maxDriverEfficiency) for i in range(nDrivers)]\n",
    "    efficiencyMatrix = np.array([[bonusEfficiency(i, j, baseEfficiency[i], nDistricts, nDrivers) for i in range(nDrivers)] for j in range(nDistricts)])\n",
    "    efficiencyMatrix = np.tile(efficiencyMatrix, [nDays,1,1])\n",
    "    \n",
    "    model = ro.Model()\n",
    "\n",
    "    # Decision Variables\n",
    "    deliveringAmt = model.dvar((nDays, nDistricts, nDrivers), 'I') # 3D Matrix to keep track of the number of parcels each driver is delivering to each district each day\n",
    "    deliveringHours = model.dvar((nDays, nDistricts, nDrivers), 'C') # 3D Matrix to keep track of the number of hours each driver is putting in for each district each day\n",
    "    isDelivering = model.dvar((nDays, nDistricts, nDrivers), 'B') # 3D Matrix to keep track if a driver is delivering to a district each day\n",
    "    undeliveredParcels = model.dvar(nDays, 'I') # List to track the number of undelivered parcels each day\n",
    "    profits = model.dvar(nDays, 'C') # Keeps track of the profits of each day\n",
    "    returnChance = model.rvar(nDays, 'C') # Tracks the return rate of a parcel being returned each day.\n",
    "    uset = (0 <= returnChance, norm(returnChance, np.infty) <= 1, norm(returnChance, 1) <= returnRate*nDays) # 0 <= returnChance <= 1, E(returnChance) == returnRate\n",
    "    \n",
    "    # Objective\n",
    "    model.maxmin(profits.sum(), uset)\n",
    "\n",
    "    # Constraints\n",
    "    # Daily profit depends on number of parcels succesfully delivered and number of hours worked across all drivers\n",
    "    model.st(profits[i] <= deliveringAmt[i].sum()*costDelivered - undeliveredParcels[i]*costUndelivered - deliveringHours[i].sum()*costDriver for i in range(nDays))\n",
    "    \n",
    "    # Parcels to be delivered each day is calculated with that day's base + ytd leftover\n",
    "    model.st(undeliveredParcels[0] >= baseParcels[0]-deliveringAmt[0].sum())\n",
    "    model.st(undeliveredParcels[i] >= baseParcels[i]+undeliveredParcels[i-1]-deliveringAmt[i].sum() for i in range(1, nDays))\n",
    "\n",
    "    # Each driver cannot deliver more than his efficiency x hours, factoring in return chance\n",
    "    for i in range(nDays):\n",
    "        for j in range(nDistricts):\n",
    "            for k in range(nDrivers):\n",
    "                model.st(0 <= deliveringAmt[i][j][k], (deliveringAmt[i][j][k] <= efficiencyMatrix[i][j][k]*deliveringHours[i][j][k]*(1-returnChance[i])))\n",
    "            \n",
    "    # Each driver cannot drive more hours than the max allowed\n",
    "    model.st(0 <= deliveringHours, deliveringHours <= isDelivering*maxHours)\n",
    "        \n",
    "    # Each driver can only deliver to 1 district\n",
    "    model.st(isDelivering[i].sum(axis=0) <= 1 for i in range(nDays))\n",
    "\n",
    "    # Number of parcels delivered per region cannot exceed total number of parcels available to be delivered to that region\n",
    "    for i in range(nDays):\n",
    "        for j in range(nDistricts):\n",
    "            if (i == 0):\n",
    "                model.st(deliveringAmt[i][j].sum() <= baseParcels[i]*parcelDist[j])\n",
    "            else:\n",
    "                model.st(deliveringAmt[i][j].sum() <= (baseParcels[i]+undeliveredParcels[i-1])*parcelDist[j])\n",
    "\n",
    "    model.solve(solver=grb, params={'LogToConsole': 0, 'OutputFlag': 0})\n",
    "    return model.get(), profits.get()"
   ]
  },
  {
   "cell_type": "code",
   "execution_count": 4,
   "metadata": {},
   "outputs": [
    {
     "name": "stdout",
     "output_type": "stream",
     "text": [
      "Set parameter Username\n",
      "Academic license - for non-commercial use only - expires 2023-10-26\n",
      "Being solved by Gurobi...\n",
      "Solution status: 2\n",
      "Running time: 74.6252s\n",
      "Being solved by Gurobi...\n",
      "Solution status: 2\n",
      "Running time: 1.9939s\n",
      "Being solved by Gurobi...\n",
      "Solution status: 2\n",
      "Running time: 0.0908s\n",
      "Being solved by Gurobi...\n",
      "Solution status: 2\n",
      "Running time: 0.0951s\n",
      "Being solved by Gurobi...\n",
      "Solution status: 2\n",
      "Running time: 0.1169s\n",
      "Being solved by Gurobi...\n",
      "Solution status: 2\n",
      "Running time: 0.0804s\n"
     ]
    },
    {
     "data": {
      "application/vnd.plotly.v1+json": {
       "config": {
        "plotlyServerURL": "https://plot.ly"
       },
       "data": [
        {
         "hovertemplate": "Category=0.05 Return Rate<br>Day=%{x}<br>Profit=%{y}<extra></extra>",
         "legendgroup": "0.05 Return Rate",
         "line": {
          "color": "#636efa",
          "dash": "solid"
         },
         "marker": {
          "symbol": "circle"
         },
         "mode": "lines",
         "name": "0.05 Return Rate",
         "orientation": "v",
         "showlegend": true,
         "type": "scatter",
         "x": [
          1,
          2,
          3,
          4,
          5,
          6,
          7
         ],
         "xaxis": "x",
         "y": [
          4433.0485070485065,
          4792.96259296259,
          4773.729381729379,
          4961.065157065155,
          4961.065157065155,
          4784.96259296259,
          5199.663447663446
         ],
         "yaxis": "y"
        },
        {
         "hovertemplate": "Category=0.1 Return Rate<br>Day=%{x}<br>Profit=%{y}<extra></extra>",
         "legendgroup": "0.1 Return Rate",
         "line": {
          "color": "#EF553B",
          "dash": "solid"
         },
         "marker": {
          "symbol": "circle"
         },
         "mode": "lines",
         "name": "0.1 Return Rate",
         "orientation": "v",
         "showlegend": true,
         "type": "scatter",
         "x": [
          1,
          2,
          3,
          4,
          5,
          6,
          7
         ],
         "xaxis": "x",
         "y": [
          -200.90975690975802,
          -2183.3542013542024,
          -4399.354201354203,
          -6152.1795981795985,
          -8160.1795981795985,
          -10292.068487068487,
          -12422.370074370076
         ],
         "yaxis": "y"
        },
        {
         "hovertemplate": "Category=0.15 Return Rate<br>Day=%{x}<br>Profit=%{y}<extra></extra>",
         "legendgroup": "0.15 Return Rate",
         "line": {
          "color": "#00cc96",
          "dash": "solid"
         },
         "marker": {
          "symbol": "circle"
         },
         "mode": "lines",
         "name": "0.15 Return Rate",
         "orientation": "v",
         "showlegend": true,
         "type": "scatter",
         "x": [
          1,
          2,
          3,
          4,
          5,
          6,
          7
         ],
         "xaxis": "x",
         "y": [
          -5320,
          -10648,
          -15568,
          -21048,
          -26560,
          -30880,
          -35384
         ],
         "yaxis": "y"
        },
        {
         "hovertemplate": "Category=0.2 Return Rate<br>Day=%{x}<br>Profit=%{y}<extra></extra>",
         "legendgroup": "0.2 Return Rate",
         "line": {
          "color": "#ab63fa",
          "dash": "solid"
         },
         "marker": {
          "symbol": "circle"
         },
         "mode": "lines",
         "name": "0.2 Return Rate",
         "orientation": "v",
         "showlegend": true,
         "type": "scatter",
         "x": [
          1,
          2,
          3,
          4,
          5,
          6,
          7
         ],
         "xaxis": "x",
         "y": [
          -5120,
          -10144,
          -15272,
          -20920,
          -25864,
          -30104,
          -35664
         ],
         "yaxis": "y"
        },
        {
         "hovertemplate": "Category=0.3 Return Rate<br>Day=%{x}<br>Profit=%{y}<extra></extra>",
         "legendgroup": "0.3 Return Rate",
         "line": {
          "color": "#FFA15A",
          "dash": "solid"
         },
         "marker": {
          "symbol": "circle"
         },
         "mode": "lines",
         "name": "0.3 Return Rate",
         "orientation": "v",
         "showlegend": true,
         "type": "scatter",
         "x": [
          1,
          2,
          3,
          4,
          5,
          6,
          7
         ],
         "xaxis": "x",
         "y": [
          -5192,
          -9936,
          -14832,
          -19384,
          -24336,
          -29176,
          -34952
         ],
         "yaxis": "y"
        },
        {
         "hovertemplate": "Category=0.5 Return Rate<br>Day=%{x}<br>Profit=%{y}<extra></extra>",
         "legendgroup": "0.5 Return Rate",
         "line": {
          "color": "#19d3f3",
          "dash": "solid"
         },
         "marker": {
          "symbol": "circle"
         },
         "mode": "lines",
         "name": "0.5 Return Rate",
         "orientation": "v",
         "showlegend": true,
         "type": "scatter",
         "x": [
          1,
          2,
          3,
          4,
          5,
          6,
          7
         ],
         "xaxis": "x",
         "y": [
          -5016,
          -10448,
          -15640,
          -21032,
          -25952,
          -32288,
          -36840
         ],
         "yaxis": "y"
        }
       ],
       "layout": {
        "legend": {
         "title": {
          "text": "Category"
         },
         "tracegroupgap": 0
        },
        "template": {
         "data": {
          "bar": [
           {
            "error_x": {
             "color": "#2a3f5f"
            },
            "error_y": {
             "color": "#2a3f5f"
            },
            "marker": {
             "line": {
              "color": "#E5ECF6",
              "width": 0.5
             },
             "pattern": {
              "fillmode": "overlay",
              "size": 10,
              "solidity": 0.2
             }
            },
            "type": "bar"
           }
          ],
          "barpolar": [
           {
            "marker": {
             "line": {
              "color": "#E5ECF6",
              "width": 0.5
             },
             "pattern": {
              "fillmode": "overlay",
              "size": 10,
              "solidity": 0.2
             }
            },
            "type": "barpolar"
           }
          ],
          "carpet": [
           {
            "aaxis": {
             "endlinecolor": "#2a3f5f",
             "gridcolor": "white",
             "linecolor": "white",
             "minorgridcolor": "white",
             "startlinecolor": "#2a3f5f"
            },
            "baxis": {
             "endlinecolor": "#2a3f5f",
             "gridcolor": "white",
             "linecolor": "white",
             "minorgridcolor": "white",
             "startlinecolor": "#2a3f5f"
            },
            "type": "carpet"
           }
          ],
          "choropleth": [
           {
            "colorbar": {
             "outlinewidth": 0,
             "ticks": ""
            },
            "type": "choropleth"
           }
          ],
          "contour": [
           {
            "colorbar": {
             "outlinewidth": 0,
             "ticks": ""
            },
            "colorscale": [
             [
              0,
              "#0d0887"
             ],
             [
              0.1111111111111111,
              "#46039f"
             ],
             [
              0.2222222222222222,
              "#7201a8"
             ],
             [
              0.3333333333333333,
              "#9c179e"
             ],
             [
              0.4444444444444444,
              "#bd3786"
             ],
             [
              0.5555555555555556,
              "#d8576b"
             ],
             [
              0.6666666666666666,
              "#ed7953"
             ],
             [
              0.7777777777777778,
              "#fb9f3a"
             ],
             [
              0.8888888888888888,
              "#fdca26"
             ],
             [
              1,
              "#f0f921"
             ]
            ],
            "type": "contour"
           }
          ],
          "contourcarpet": [
           {
            "colorbar": {
             "outlinewidth": 0,
             "ticks": ""
            },
            "type": "contourcarpet"
           }
          ],
          "heatmap": [
           {
            "colorbar": {
             "outlinewidth": 0,
             "ticks": ""
            },
            "colorscale": [
             [
              0,
              "#0d0887"
             ],
             [
              0.1111111111111111,
              "#46039f"
             ],
             [
              0.2222222222222222,
              "#7201a8"
             ],
             [
              0.3333333333333333,
              "#9c179e"
             ],
             [
              0.4444444444444444,
              "#bd3786"
             ],
             [
              0.5555555555555556,
              "#d8576b"
             ],
             [
              0.6666666666666666,
              "#ed7953"
             ],
             [
              0.7777777777777778,
              "#fb9f3a"
             ],
             [
              0.8888888888888888,
              "#fdca26"
             ],
             [
              1,
              "#f0f921"
             ]
            ],
            "type": "heatmap"
           }
          ],
          "heatmapgl": [
           {
            "colorbar": {
             "outlinewidth": 0,
             "ticks": ""
            },
            "colorscale": [
             [
              0,
              "#0d0887"
             ],
             [
              0.1111111111111111,
              "#46039f"
             ],
             [
              0.2222222222222222,
              "#7201a8"
             ],
             [
              0.3333333333333333,
              "#9c179e"
             ],
             [
              0.4444444444444444,
              "#bd3786"
             ],
             [
              0.5555555555555556,
              "#d8576b"
             ],
             [
              0.6666666666666666,
              "#ed7953"
             ],
             [
              0.7777777777777778,
              "#fb9f3a"
             ],
             [
              0.8888888888888888,
              "#fdca26"
             ],
             [
              1,
              "#f0f921"
             ]
            ],
            "type": "heatmapgl"
           }
          ],
          "histogram": [
           {
            "marker": {
             "pattern": {
              "fillmode": "overlay",
              "size": 10,
              "solidity": 0.2
             }
            },
            "type": "histogram"
           }
          ],
          "histogram2d": [
           {
            "colorbar": {
             "outlinewidth": 0,
             "ticks": ""
            },
            "colorscale": [
             [
              0,
              "#0d0887"
             ],
             [
              0.1111111111111111,
              "#46039f"
             ],
             [
              0.2222222222222222,
              "#7201a8"
             ],
             [
              0.3333333333333333,
              "#9c179e"
             ],
             [
              0.4444444444444444,
              "#bd3786"
             ],
             [
              0.5555555555555556,
              "#d8576b"
             ],
             [
              0.6666666666666666,
              "#ed7953"
             ],
             [
              0.7777777777777778,
              "#fb9f3a"
             ],
             [
              0.8888888888888888,
              "#fdca26"
             ],
             [
              1,
              "#f0f921"
             ]
            ],
            "type": "histogram2d"
           }
          ],
          "histogram2dcontour": [
           {
            "colorbar": {
             "outlinewidth": 0,
             "ticks": ""
            },
            "colorscale": [
             [
              0,
              "#0d0887"
             ],
             [
              0.1111111111111111,
              "#46039f"
             ],
             [
              0.2222222222222222,
              "#7201a8"
             ],
             [
              0.3333333333333333,
              "#9c179e"
             ],
             [
              0.4444444444444444,
              "#bd3786"
             ],
             [
              0.5555555555555556,
              "#d8576b"
             ],
             [
              0.6666666666666666,
              "#ed7953"
             ],
             [
              0.7777777777777778,
              "#fb9f3a"
             ],
             [
              0.8888888888888888,
              "#fdca26"
             ],
             [
              1,
              "#f0f921"
             ]
            ],
            "type": "histogram2dcontour"
           }
          ],
          "mesh3d": [
           {
            "colorbar": {
             "outlinewidth": 0,
             "ticks": ""
            },
            "type": "mesh3d"
           }
          ],
          "parcoords": [
           {
            "line": {
             "colorbar": {
              "outlinewidth": 0,
              "ticks": ""
             }
            },
            "type": "parcoords"
           }
          ],
          "pie": [
           {
            "automargin": true,
            "type": "pie"
           }
          ],
          "scatter": [
           {
            "fillpattern": {
             "fillmode": "overlay",
             "size": 10,
             "solidity": 0.2
            },
            "type": "scatter"
           }
          ],
          "scatter3d": [
           {
            "line": {
             "colorbar": {
              "outlinewidth": 0,
              "ticks": ""
             }
            },
            "marker": {
             "colorbar": {
              "outlinewidth": 0,
              "ticks": ""
             }
            },
            "type": "scatter3d"
           }
          ],
          "scattercarpet": [
           {
            "marker": {
             "colorbar": {
              "outlinewidth": 0,
              "ticks": ""
             }
            },
            "type": "scattercarpet"
           }
          ],
          "scattergeo": [
           {
            "marker": {
             "colorbar": {
              "outlinewidth": 0,
              "ticks": ""
             }
            },
            "type": "scattergeo"
           }
          ],
          "scattergl": [
           {
            "marker": {
             "colorbar": {
              "outlinewidth": 0,
              "ticks": ""
             }
            },
            "type": "scattergl"
           }
          ],
          "scattermapbox": [
           {
            "marker": {
             "colorbar": {
              "outlinewidth": 0,
              "ticks": ""
             }
            },
            "type": "scattermapbox"
           }
          ],
          "scatterpolar": [
           {
            "marker": {
             "colorbar": {
              "outlinewidth": 0,
              "ticks": ""
             }
            },
            "type": "scatterpolar"
           }
          ],
          "scatterpolargl": [
           {
            "marker": {
             "colorbar": {
              "outlinewidth": 0,
              "ticks": ""
             }
            },
            "type": "scatterpolargl"
           }
          ],
          "scatterternary": [
           {
            "marker": {
             "colorbar": {
              "outlinewidth": 0,
              "ticks": ""
             }
            },
            "type": "scatterternary"
           }
          ],
          "surface": [
           {
            "colorbar": {
             "outlinewidth": 0,
             "ticks": ""
            },
            "colorscale": [
             [
              0,
              "#0d0887"
             ],
             [
              0.1111111111111111,
              "#46039f"
             ],
             [
              0.2222222222222222,
              "#7201a8"
             ],
             [
              0.3333333333333333,
              "#9c179e"
             ],
             [
              0.4444444444444444,
              "#bd3786"
             ],
             [
              0.5555555555555556,
              "#d8576b"
             ],
             [
              0.6666666666666666,
              "#ed7953"
             ],
             [
              0.7777777777777778,
              "#fb9f3a"
             ],
             [
              0.8888888888888888,
              "#fdca26"
             ],
             [
              1,
              "#f0f921"
             ]
            ],
            "type": "surface"
           }
          ],
          "table": [
           {
            "cells": {
             "fill": {
              "color": "#EBF0F8"
             },
             "line": {
              "color": "white"
             }
            },
            "header": {
             "fill": {
              "color": "#C8D4E3"
             },
             "line": {
              "color": "white"
             }
            },
            "type": "table"
           }
          ]
         },
         "layout": {
          "annotationdefaults": {
           "arrowcolor": "#2a3f5f",
           "arrowhead": 0,
           "arrowwidth": 1
          },
          "autotypenumbers": "strict",
          "coloraxis": {
           "colorbar": {
            "outlinewidth": 0,
            "ticks": ""
           }
          },
          "colorscale": {
           "diverging": [
            [
             0,
             "#8e0152"
            ],
            [
             0.1,
             "#c51b7d"
            ],
            [
             0.2,
             "#de77ae"
            ],
            [
             0.3,
             "#f1b6da"
            ],
            [
             0.4,
             "#fde0ef"
            ],
            [
             0.5,
             "#f7f7f7"
            ],
            [
             0.6,
             "#e6f5d0"
            ],
            [
             0.7,
             "#b8e186"
            ],
            [
             0.8,
             "#7fbc41"
            ],
            [
             0.9,
             "#4d9221"
            ],
            [
             1,
             "#276419"
            ]
           ],
           "sequential": [
            [
             0,
             "#0d0887"
            ],
            [
             0.1111111111111111,
             "#46039f"
            ],
            [
             0.2222222222222222,
             "#7201a8"
            ],
            [
             0.3333333333333333,
             "#9c179e"
            ],
            [
             0.4444444444444444,
             "#bd3786"
            ],
            [
             0.5555555555555556,
             "#d8576b"
            ],
            [
             0.6666666666666666,
             "#ed7953"
            ],
            [
             0.7777777777777778,
             "#fb9f3a"
            ],
            [
             0.8888888888888888,
             "#fdca26"
            ],
            [
             1,
             "#f0f921"
            ]
           ],
           "sequentialminus": [
            [
             0,
             "#0d0887"
            ],
            [
             0.1111111111111111,
             "#46039f"
            ],
            [
             0.2222222222222222,
             "#7201a8"
            ],
            [
             0.3333333333333333,
             "#9c179e"
            ],
            [
             0.4444444444444444,
             "#bd3786"
            ],
            [
             0.5555555555555556,
             "#d8576b"
            ],
            [
             0.6666666666666666,
             "#ed7953"
            ],
            [
             0.7777777777777778,
             "#fb9f3a"
            ],
            [
             0.8888888888888888,
             "#fdca26"
            ],
            [
             1,
             "#f0f921"
            ]
           ]
          },
          "colorway": [
           "#636efa",
           "#EF553B",
           "#00cc96",
           "#ab63fa",
           "#FFA15A",
           "#19d3f3",
           "#FF6692",
           "#B6E880",
           "#FF97FF",
           "#FECB52"
          ],
          "font": {
           "color": "#2a3f5f"
          },
          "geo": {
           "bgcolor": "white",
           "lakecolor": "white",
           "landcolor": "#E5ECF6",
           "showlakes": true,
           "showland": true,
           "subunitcolor": "white"
          },
          "hoverlabel": {
           "align": "left"
          },
          "hovermode": "closest",
          "mapbox": {
           "style": "light"
          },
          "paper_bgcolor": "white",
          "plot_bgcolor": "#E5ECF6",
          "polar": {
           "angularaxis": {
            "gridcolor": "white",
            "linecolor": "white",
            "ticks": ""
           },
           "bgcolor": "#E5ECF6",
           "radialaxis": {
            "gridcolor": "white",
            "linecolor": "white",
            "ticks": ""
           }
          },
          "scene": {
           "xaxis": {
            "backgroundcolor": "#E5ECF6",
            "gridcolor": "white",
            "gridwidth": 2,
            "linecolor": "white",
            "showbackground": true,
            "ticks": "",
            "zerolinecolor": "white"
           },
           "yaxis": {
            "backgroundcolor": "#E5ECF6",
            "gridcolor": "white",
            "gridwidth": 2,
            "linecolor": "white",
            "showbackground": true,
            "ticks": "",
            "zerolinecolor": "white"
           },
           "zaxis": {
            "backgroundcolor": "#E5ECF6",
            "gridcolor": "white",
            "gridwidth": 2,
            "linecolor": "white",
            "showbackground": true,
            "ticks": "",
            "zerolinecolor": "white"
           }
          },
          "shapedefaults": {
           "line": {
            "color": "#2a3f5f"
           }
          },
          "ternary": {
           "aaxis": {
            "gridcolor": "white",
            "linecolor": "white",
            "ticks": ""
           },
           "baxis": {
            "gridcolor": "white",
            "linecolor": "white",
            "ticks": ""
           },
           "bgcolor": "#E5ECF6",
           "caxis": {
            "gridcolor": "white",
            "linecolor": "white",
            "ticks": ""
           }
          },
          "title": {
           "x": 0.05
          },
          "xaxis": {
           "automargin": true,
           "gridcolor": "white",
           "linecolor": "white",
           "ticks": "",
           "title": {
            "standoff": 15
           },
           "zerolinecolor": "white",
           "zerolinewidth": 2
          },
          "yaxis": {
           "automargin": true,
           "gridcolor": "white",
           "linecolor": "white",
           "ticks": "",
           "title": {
            "standoff": 15
           },
           "zerolinecolor": "white",
           "zerolinewidth": 2
          }
         }
        },
        "title": {
         "text": "Multi Day Optimisation with Return: Varying Return Rate"
        },
        "xaxis": {
         "anchor": "y",
         "domain": [
          0,
          1
         ],
         "title": {
          "text": "Day"
         }
        },
        "yaxis": {
         "anchor": "x",
         "domain": [
          0,
          1
         ],
         "title": {
          "text": "Profit"
         }
        }
       }
      }
     },
     "metadata": {},
     "output_type": "display_data"
    }
   ],
   "source": [
    "# Now, we perform some analysis using our multi day with return chance model.\n",
    "# Some data as a reference point:\n",
    "# Ninjavan has an approximate return rate of 24% in SG.\n",
    "# Ref: https://media.ninjavan.co/sg/wp-content/uploads/sites/9/2022/04/REPORT-Ninja-Van-Group-x-DPDGroup_-E-commerce-Barometer-Report-1.pdf\n",
    "# (Some of the models may need to be ran multiple times as they may not be able to find an optimal solution every time.)\n",
    "\n",
    "# Varying the return rate.\n",
    "vars = [0.05, 0.1, 0.15, 0.2, 0.3, 0.5]\n",
    "profitsUncertaintyVaryReturnRate = {\n",
    "    'name' : [],\n",
    "    'day' : [],\n",
    "    'profit' : []\n",
    "}\n",
    "\n",
    "for var in vars:\n",
    "    res, resProfits = optimizeOverPeriodWithReturn(\n",
    "        returnRate=var,\n",
    "        nDays=7,\n",
    "        nDistricts=5, \n",
    "        nDrivers=20, \n",
    "        totalParcelsAvg=650,\n",
    "        totalParcelsSD=65, \n",
    "        costDelivered=10, \n",
    "        costUndelivered=8, \n",
    "        costDriver=20, \n",
    "        maxHours=8, \n",
    "        minDriverEfficiency=3, \n",
    "        maxDriverEfficiency=10\n",
    "        )\n",
    "    for i in range(len(resProfits)):        \n",
    "        profitsUncertaintyVaryReturnRate['name'].append(str(var) + ' Return Rate')\n",
    "        profitsUncertaintyVaryReturnRate['day'].append(i+1)\n",
    "        profitsUncertaintyVaryReturnRate['profit'].append(resProfits[i])\n",
    "        \n",
    "df = pd.DataFrame(profitsUncertaintyVaryReturnRate)\n",
    "fig = px.line(df, x='day', y='profit', color='name', labels={'day': \"Day\", 'profit': \"Profit\", 'name': \"Category\"}, title='Multi Day Optimisation with Return: Varying Return Rate')\n",
    "fig.show()\n",
    "\n",
    "# As expected, a drop in delivery success rate directly translates to a drop in profit.\n",
    "# However, we can see that depending on the number of available drivers, we can prepare for and withstand a given level of uncertainty.\n",
    "# We also note that uncertainty rate does not affect variance."
   ]
  },
  {
   "cell_type": "code",
   "execution_count": null,
   "metadata": {},
   "outputs": [],
   "source": [
    "# Limitations\n",
    "\n",
    "# I was unable to run this on a larger scale. \n",
    "# Interestingly, it seems to spike in solving time when a 'stable' profit stream is achieved, i.e. when the number of drivers is enough to meet the number of parcels. \n",
    "# For example, \n",
    "# nDrivers = 5, nDrivers not sufficient to deliver all parcels. Parcels keep piling up, and profits keep decreasing. Solving time < 1s.\n",
    "# nDrivers = 7, nDrivers can now consistently deliver all parcels. Daily profit is relatively stable. Solving time > 60s / cannot solve.\n",
    "# One possible reason I could think of is that when a 'stable' profit stream is possible, there are less parcels to deliver each day.\n",
    "# Thus it is harder to assign drivers optimally, which causes a significant spike when compounded across many days."
   ]
  }
 ],
 "metadata": {
  "kernelspec": {
   "display_name": "Python 3 (ipykernel)",
   "language": "python",
   "name": "python3"
  },
  "language_info": {
   "codemirror_mode": {
    "name": "ipython",
    "version": 3
   },
   "file_extension": ".py",
   "mimetype": "text/x-python",
   "name": "python",
   "nbconvert_exporter": "python",
   "pygments_lexer": "ipython3",
   "version": "3.10.4"
  },
  "vscode": {
   "interpreter": {
    "hash": "3a501d581e90d4f78ac42f5e05b2bd2f2b7ecd267861db3f3c2661c594f10a95"
   }
  }
 },
 "nbformat": 4,
 "nbformat_minor": 4
}
